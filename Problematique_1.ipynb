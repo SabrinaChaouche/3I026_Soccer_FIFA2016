{
 "cells": [
  {
   "cell_type": "markdown",
   "metadata": {},
   "source": [
    "**Mohamed ALLILI & Sabrina CHAOUCHE**"
   ]
  },
  {
   "cell_type": "markdown",
   "metadata": {},
   "source": [
    "# 3I026 - Intelligence artificielle & Data science\n",
    "\n",
    "# Projet"
   ]
  },
  {
   "cell_type": "markdown",
   "metadata": {
    "collapsed": true
   },
   "source": [
    "## Partie 1 - Description du problème"
   ]
  },
  {
   "cell_type": "markdown",
   "metadata": {
    "collapsed": true
   },
   "source": [
    "Dans une équipe de football, les joueurs sont répartis généralement en 4 catégories selon le poste occupé: attaquant, defenseur, milieu de terrain ou gardien de but.\n",
    "Dans ce notebook, on va essayer de définir cette répartition de manière automatique."
   ]
  },
  {
   "cell_type": "markdown",
   "metadata": {},
   "source": [
    "## Partie 2 - Modèle"
   ]
  },
  {
   "cell_type": "markdown",
   "metadata": {
    "collapsed": true
   },
   "source": [
    "Pour pouvoir classifier ces joueurs, on devra d'abord faire un clustering hiérarchique d'où on pourra identifier le nombre de clusters possibles à construire à partir des données.\n",
    "Par la suite on utilisera l'algorithme des k-moyennes pour créer les clusters et prédire la classe d'un joueur donné."
   ]
  },
  {
   "cell_type": "markdown",
   "metadata": {},
   "source": [
    "## Partie 3 - Code"
   ]
  },
  {
   "cell_type": "markdown",
   "metadata": {},
   "source": [
    "#### Variables utilisées:\n",
    "<ul>\n",
    "<li> <b> data_row: </b> données lues directement à partir du fichier </li>\n",
    "<li> <b> data_to_use: </b> données traitées pour effectuer les différents calculs</li>\n",
    "<li> <b> columns_playerattributes_grouping: </b> colonnes à utiliser pour effectuer des groupements des joueurs selon \"player_api_id\" </li>\n",
    "<li> <b> columns_playerattributes_needed: </b> Colonnes à utiliser pour récupérer les données dont on a besoin pour l'application de l'algorithme k-moyennes</li>\n",
    "<li> <b> attaquants: </b> tableau de longueur 4 contenant 4 attaquants</li>\n",
    "<li> <b> defenseurs: </b> tableau de longueur 4 contenant 4 défenseurs</li>\n",
    "<li> <b> milieu_de_terrain: </b> tableau de longueur 4 contenant 4 milieu de terrain</li>\n",
    "<li> <b> gardiens_de_buts: </b> tableau de longueur 4 contenant 4 gardiens de buts</li>\n",
    "</ul>"
   ]
  },
  {
   "cell_type": "code",
   "execution_count": 1,
   "metadata": {
    "collapsed": true
   },
   "outputs": [],
   "source": [
    "from scipy.cluster.hierarchy import dendrogram, linkage\n",
    "from sklearn.cluster import KMeans\n",
    "from sklearn.manifold import TSNE\n",
    "from operator import itemgetter\n",
    "import kmoyennes as km\n",
    "import matplotlib.pyplot as plt\n",
    "import pandas as pd\n",
    "import numpy as np\n",
    "import math\n",
    "import random\n",
    "\n",
    "%matplotlib inline  "
   ]
  },
  {
   "cell_type": "code",
   "execution_count": 2,
   "metadata": {
    "collapsed": true
   },
   "outputs": [],
   "source": [
    "def get_data_row():\n",
    "    # Lecture des données à partir du fichier CSV\n",
    "    data_row = pd.read_csv(\"soccer_csv/playerattributes.csv\")\n",
    "    return data_row"
   ]
  },
  {
   "cell_type": "code",
   "execution_count": 3,
   "metadata": {
    "collapsed": true
   },
   "outputs": [],
   "source": [
    "def get_data(data_row):\n",
    "    # Récupération des données pertinantes\n",
    "    data_playerattributes = data_row[columns_playerattributes_grouping]\n",
    "    \n",
    "    # Suppression des lignes contenant des valeurs à NULL\n",
    "    for k in data_playerattributes[columns_playerattributes_grouping]:\n",
    "        data_playerattributes.dropna(axis = 0, how = 'any', inplace = True)\n",
    "        \n",
    "    return data_playerattributes"
   ]
  },
  {
   "cell_type": "code",
   "execution_count": 4,
   "metadata": {
    "collapsed": true
   },
   "outputs": [],
   "source": [
    "def remove_data_test(data):\n",
    "    # Suppression des données des joueurs à utiliser pour vérifier la fiabilité du clustering\n",
    "    data = data[~ data_row.player_api_id.isin([30981, 30893, 107417, 19533, 37482, 30962, 80562, 41884, 30955, 95078, 24235, 30955, 95078, 190972, 31097, 27299, 170323, 182917, 30657])]\n",
    "    data = data.groupby(['player_api_id']).mean()\n",
    "    data = data[columns_playerattributes_needed]\n",
    "    return data"
   ]
  },
  {
   "cell_type": "code",
   "execution_count": 5,
   "metadata": {
    "collapsed": true
   },
   "outputs": [],
   "source": [
    "def get_attaquants():\n",
    "    # Données attaquants: Lionel Messi, Cristiano Ronaldo, Eden Hazard, Neymar\n",
    "    Lionel_Messi = np.array(data_row[data_row.player_api_id == 30981][columns_playerattributes_needed].mean())\n",
    "    Cristiano_Ronaldo = np.array(data_row[data_row.player_api_id == 30893][columns_playerattributes_needed].mean())\n",
    "    Eden_Hazard = np.array(data_row[data_row.player_api_id == 107417][columns_playerattributes_needed].mean())\n",
    "    Neymar = np.array(data_row[data_row.player_api_id == 19533][columns_playerattributes_needed].mean())\n",
    "    attaquants = np.matrix([Lionel_Messi, Cristiano_Ronaldo, Eden_Hazard, Neymar])\n",
    "    attaquants_array = np.array(attaquants)\n",
    "    return attaquants_array"
   ]
  },
  {
   "cell_type": "code",
   "execution_count": 6,
   "metadata": {
    "collapsed": true
   },
   "outputs": [],
   "source": [
    "def get_defenseurs():\n",
    "    # Données defenseurs: Gerard Pique, Sergio Ramos, Thiago Silva, Giorgio Cheiellini \n",
    "    Gerard_Pique = np.array(data_row[data_row.player_api_id == 37482][columns_playerattributes_needed].mean())\n",
    "    Sergio_Ramos = np.array(data_row[data_row.player_api_id == 30962][columns_playerattributes_needed].mean())\n",
    "    Thiago_Silva = np.array(data_row[data_row.player_api_id == 80562][columns_playerattributes_needed].mean())\n",
    "    Giorgio_Cheiellini = np.array(data_row[data_row.player_api_id == 41884][columns_playerattributes_needed].mean())\n",
    "    defenseurs = np.matrix([Gerard_Pique, Sergio_Ramos, Thiago_Silva, Giorgio_Cheiellini])\n",
    "    defenseurs_array = np.array(defenseurs)\n",
    "    return defenseurs_array"
   ]
  },
  {
   "cell_type": "code",
   "execution_count": 7,
   "metadata": {
    "collapsed": true
   },
   "outputs": [],
   "source": [
    "def get_milieu_de_terrain():\n",
    "    # Données milieu de terrain: Andres Iniesta, Toni Kroos, Marco Verratti, Luka Modric\n",
    "    Andres_Iniesta = np.array(data_row[data_row.player_api_id == 30955][columns_playerattributes_needed].mean())\n",
    "    Toni_Kroos = np.array(data_row[data_row.player_api_id == 95078][columns_playerattributes_needed].mean())\n",
    "    Marco_Verratti = np.array(data_row[data_row.player_api_id == 190972][columns_playerattributes_needed].mean())\n",
    "    Luka_Modric = np.array(data_row[data_row.player_api_id == 31097][columns_playerattributes_needed].mean())\n",
    "    milieu_de_terrain = np.matrix([Andres_Iniesta, Toni_Kroos, Marco_Verratti, Luka_Modric])\n",
    "    milieu_de_terrain_array = np.array(milieu_de_terrain)\n",
    "    return milieu_de_terrain_array"
   ]
  },
  {
   "cell_type": "code",
   "execution_count": 8,
   "metadata": {
    "collapsed": true
   },
   "outputs": [],
   "source": [
    "def get_gardiens_de_buts():\n",
    "    # Données gerdiens de buts: Manuel Neuer, Thibaut Courtois, David de Gea, Iker Casillas\n",
    "    Manuel_Neuer = np.array(data_row[data_row.player_api_id == 27299][columns_playerattributes_needed].mean())\n",
    "    Thibaut_Courtois = np.array(data_row[data_row.player_api_id == 170323][columns_playerattributes_needed].mean())\n",
    "    David_de_Gea = np.array(data_row[data_row.player_api_id == 182917][columns_playerattributes_needed].mean())\n",
    "    Iker_Casillas = np.array(data_row[data_row.player_api_id == 30657][columns_playerattributes_needed].mean())\n",
    "    gardiens_de_but = np.matrix([Manuel_Neuer, Thibaut_Courtois, David_de_Gea, Iker_Casillas])\n",
    "    gardiens_de_but_array = np.array(gardiens_de_but)\n",
    "    return gardiens_de_but_array"
   ]
  },
  {
   "cell_type": "markdown",
   "metadata": {},
   "source": [
    "### "
   ]
  },
  {
   "cell_type": "code",
   "execution_count": 9,
   "metadata": {
    "collapsed": true
   },
   "outputs": [],
   "source": [
    "def fonction_linkage(data):\n",
    "    data_linkage = data[columns_playerattributes_needed].as_matrix()\n",
    "    type(data_linkage)\n",
    "    link = linkage(data_linkage[500 : 600], 'complete') # Utilisation du clustering sur un échantillon de 100 lignes pour avoir un affichage optimal\n",
    "    plt.figure()\n",
    "    plt.title(\"Dendrogramme des joueurs: attaquants, defenseurs, milieu de terrain et gardiens de buts\")\n",
    "    dn = dendrogram(link)"
   ]
  },
  {
   "cell_type": "code",
   "execution_count": 10,
   "metadata": {
    "collapsed": true
   },
   "outputs": [],
   "source": [
    "def transformer_donnees_kmeans(data_to_use):\n",
    "    #Transformer le dataframe en numpy array pour pouvoir utiliser l'algorithme des k-means de sklearn \n",
    "    data_playerattributes_kmeans = data_to_use.values\n",
    "    \n",
    "    # Transformation des données pour l'affichage\n",
    "    data_embedded = TSNE(n_components = 2).fit_transform(data_playerattributes_kmeans)\n",
    "    return data_embedded"
   ]
  },
  {
   "cell_type": "code",
   "execution_count": 11,
   "metadata": {
    "collapsed": true
   },
   "outputs": [],
   "source": [
    "def k_means_sklearn(data_embedded):\n",
    "    kmeans = KMeans(n_clusters = 4, init = 'k-means++', n_init = 50).fit(data_embedded)\n",
    "    return kmeans"
   ]
  },
  {
   "cell_type": "code",
   "execution_count": 12,
   "metadata": {
    "collapsed": true
   },
   "outputs": [],
   "source": [
    "def afficher_clustering(data_embedded, labels, centres):\n",
    "    plt.scatter(data_embedded[:, 0], data_embedded[:, 1], c = labels , cmap = 'rainbow')  \n",
    "    plt.scatter(centres[:, 0] , centres[:, 1], color = 'black')\n",
    "    plt.title(\"Clustering des joueurs: attaquants, defenseurs, milieu de terrain, gardiens de buts\")\n",
    "    plt.show()"
   ]
  },
  {
   "cell_type": "code",
   "execution_count": 13,
   "metadata": {
    "collapsed": true
   },
   "outputs": [],
   "source": [
    "def test_clustering(kmeans_clustering):\n",
    "    # Prédictions sur les attaquants\n",
    "    print(\"Le résultat sur les attaquants:\")\n",
    "    print(kmeans_clustering.predict(attaquants))\n",
    "    # Prédictions sur les défenseurs\n",
    "    print(\"Le résultat sur les défenseurs:\")\n",
    "    print(kmeans_clustering.predict(defenseurs))\n",
    "    # Prédictions sur les milieu de terrain\n",
    "    print(\"Le résultat sur les milieu de terrain:\")\n",
    "    print(kmeans_clustering.predict(milieu_de_terrain))\n",
    "    # Prédiction sur les gardiens du buts\n",
    "    print(\"Le résultat sur les gardiens du buts:\")\n",
    "    print(kmeans_clustering.predict(gardiens_de_buts))"
   ]
  },
  {
   "cell_type": "markdown",
   "metadata": {},
   "source": [
    "### Implémenation de l'algorithme des k-moyennes"
   ]
  },
  {
   "cell_type": "code",
   "execution_count": 14,
   "metadata": {
    "collapsed": true
   },
   "outputs": [],
   "source": [
    "class clustering_km:  \n",
    "    \n",
    "    def __init__(self, df, k, iter_max, epsilon):\n",
    "        self.df = df\n",
    "        self.k = k\n",
    "        self.iter_max = iter_max\n",
    "        self.epsilon = epsilon\n",
    "        self.centroides = pd.DataFrame()\n",
    "        self.matrice_affectation = None\n",
    "    \n",
    "    def train(self):\n",
    "        data_normalized = normalisation(self.df)\n",
    "        self.centroides, self.matrice_affectation = kmoyennes(self.k, data_normalized, self.epsilon, self.iter_max)\n",
    "        \n",
    "    # Fonction pour prédire à quel cluster appartient un joueur passé en entrée\n",
    "    def predict(self, joueur):\n",
    "        distances = list()\n",
    "        centres = self.centroides.as_matrix()\n",
    "        for c in centres:\n",
    "            d = dist_vect(c, joueur)\n",
    "            distances.append(d)\n",
    "        return((min(enumerate(distances), key = itemgetter(1))[0]))\n",
    "    "
   ]
  },
  {
   "cell_type": "code",
   "execution_count": 27,
   "metadata": {
    "collapsed": true
   },
   "outputs": [],
   "source": [
    "# Fonctions à utiliser pour l'algorithme des k-moyennes\n",
    "\n",
    "# Normalisation des données :\n",
    "def normalisation(dfo):\n",
    "    df = dfo.copy()\n",
    "    nb_lig, nb_col = df.shape\n",
    "    for j in range(nb_col):\n",
    "        colonne = df[df.columns[j]]\n",
    "        max_col = colonne.max()\n",
    "        min_col = colonne.min()\n",
    "        for i in range(nb_lig):\n",
    "            norm = (colonne.iloc[i] - min_col)*1.0 / (max_col - min_col)\n",
    "            df.set_value(i, j, norm, takeable=True)\n",
    "    return df\n",
    "\n",
    "# -------\n",
    "# Fonctions distances\n",
    "def dist_vect(p1 , p2):\n",
    "    somme_carre = 0\n",
    "    for i in range(len(p1)):\n",
    "        somme_carre += (p1[i] - p2[i]) * (p1[i] - p2[i])\n",
    "    dist = math.sqrt(somme_carre)\n",
    "    return dist\n",
    "\n",
    "# -------\n",
    "# Calculs de centroïdes :\n",
    "def centroide(df):\n",
    "    nb_lig, nb_col = df.shape\n",
    "    if nb_lig == 0 :\n",
    "        return \"ERREUR : Longueur == 0\"\n",
    "    l_centroide = np.array([])\n",
    "    for j in range(nb_col):\n",
    "        colonne = df[df.columns[j]]\n",
    "        moyenne = colonne.mean()\n",
    "        l_centroide =  np.hstack((l_centroide, [moyenne]))\n",
    "    return pd.DataFrame ([l_centroide], columns=df.columns)\n",
    "\n",
    "# -------\n",
    "# Inertie des clusters :\n",
    "def inertie_cluster(df):\n",
    "    somme = 0\n",
    "    nb_lig, nb_col = df.shape\n",
    "    ck = centroide(df)\n",
    "    for i in range(len(df)):\n",
    "        dist = dist_vect(df.iloc[i], ck.iloc[0])\n",
    "        somme += dist*dist\n",
    "    return somme\n",
    "    \n",
    "# -------\n",
    "# Algorithmes des K-moyennes :\n",
    "def initialisation(k, df):\n",
    "    nb_lig, nb_col = df.shape\n",
    "    if k <= 1 or k > nb_lig:\n",
    "        print(\"ERREUR k : initialisation\")\n",
    "        return\n",
    "    indices = list(range(nb_lig))\n",
    "    indices_rand = random.sample(indices, k)\n",
    "    d_res = list()\n",
    "    for i in range(k):\n",
    "        d_res.append(df.iloc[indices_rand[i]])\n",
    "        \n",
    "    d_res = pd.DataFrame(d_res)\n",
    "    return d_res\n",
    "\n",
    "# -------\n",
    "def plus_proche(e, dfc):\n",
    "    nb_ligne, nb_colonne = dfc.shape\n",
    "    dist_min = dist_vect(e, dfc.iloc[0])\n",
    "    index_min = 0\n",
    "    for i in range(nb_ligne):\n",
    "        dist = dist_vect(e, dfc.iloc[i])\n",
    "        if dist < dist_min :\n",
    "            dist_min = dist\n",
    "            index_min = i\n",
    "    return index_min\n",
    "\n",
    "# -------\n",
    "def affecte_cluster(df, centro):\n",
    "    nb_lig, nb_col = df.shape\n",
    "    m_aff = dict()\n",
    "    for i in range(len(centro)):\n",
    "        m_aff[i] = list()\n",
    "    for i in range(nb_lig):\n",
    "        i_cluster = plus_proche(df.iloc[i], centro)\n",
    "        m_aff[i_cluster].append(i)\n",
    "    \n",
    "    return m_aff\n",
    "\n",
    "# -------\n",
    "def nouveaux_centroides(df, d_aff):\n",
    "    l_centroide = list()\n",
    "    \n",
    "    for k, v in d_aff.items():\n",
    "        l_c = list()\n",
    "        for i in range(len(v)):\n",
    "             l_c.append(df.iloc[v[i]])\n",
    "        d_c = pd.DataFrame(l_c)\n",
    "        c = centroide(d_c)\n",
    "        l_centroide.append(c.iloc[0])\n",
    "    d_res = pd.DataFrame(l_centroide , index=d_aff.keys(), columns=df.columns)\n",
    "    return d_res\n",
    "\n",
    "# -------\n",
    "def inertie_globale(df,d_aff):\n",
    "    somme  = 0\n",
    "    for k,v in d_aff.items():\n",
    "        somme += inertie_cluster(pd.DataFrame(df.iloc[v], columns=df.columns))\n",
    "    return somme\n",
    "\n",
    "# -------\n",
    "def kmoyennes(k, df, epsilon, iter_max):\n",
    "    if k <= 1 or epsilon <= 0 or iter_max <= 0:\n",
    "        print (\"ERREUR kmoyennes\")\n",
    "        return\n",
    "    #1\n",
    "    centroides = initialisation(k, df)\n",
    "    # premiere fois\n",
    "    m_aff = affecte_cluster(df, centroides)\n",
    "    new_centroides = nouveaux_centroides(df, m_aff)\n",
    "    J = inertie_globale(df, m_aff)\n",
    "    for t in range(1, iter_max):\n",
    "        J_old = J\n",
    "        #2\n",
    "        m_aff = affecte_cluster(df, new_centroides)\n",
    "        #3\n",
    "        new_centroides = nouveaux_centroides(df, m_aff)\n",
    "        #4\n",
    "        J = inertie_globale(df, m_aff)\n",
    "        diff = abs(J-J_old)\n",
    "        if (diff < epsilon):\n",
    "            return new_centroides, m_aff\n",
    "    return new_centroides, m_aff"
   ]
  },
  {
   "cell_type": "markdown",
   "metadata": {},
   "source": [
    "## Partie 4 - Protocole expérimental"
   ]
  },
  {
   "cell_type": "code",
   "execution_count": 15,
   "metadata": {},
   "outputs": [
    {
     "name": "stderr",
     "output_type": "stream",
     "text": [
      "/home/sabrina/anaconda3/lib/python3.6/site-packages/ipykernel_launcher.py:7: SettingWithCopyWarning: \n",
      "A value is trying to be set on a copy of a slice from a DataFrame\n",
      "\n",
      "See the caveats in the documentation: http://pandas.pydata.org/pandas-docs/stable/indexing.html#indexing-view-versus-copy\n",
      "  import sys\n"
     ]
    }
   ],
   "source": [
    "# Récupération des données\n",
    "data_row = get_data_row()\n",
    "# Récupération des noms de colonnes\n",
    "columns_playerattributes = [k for k in data_row.columns]\n",
    "columns_playerattributes_needed = columns_playerattributes[9 :: ]\n",
    "columns_playerattributes_grouping = columns_playerattributes[9 :: ]\n",
    "columns_playerattributes_grouping.append(\"player_api_id\")\n",
    "# Récupération des données pertinantes\n",
    "data_to_use = get_data(data_row)"
   ]
  },
  {
   "cell_type": "code",
   "execution_count": 16,
   "metadata": {
    "collapsed": true
   },
   "outputs": [],
   "source": [
    "# Récupération des données des colonnes pertinantes pour le clustering hiérarchique\n",
    "data_to_use = data_to_use[columns_playerattributes_needed]"
   ]
  },
  {
   "cell_type": "code",
   "execution_count": 17,
   "metadata": {},
   "outputs": [
    {
     "data": {
      "image/png": "[encoded data removed]",
      "text/plain": [
       "<matplotlib.figure.Figure at 0x7f2edf1197b8>"
      ]
     },
     "metadata": {},
     "output_type": "display_data"
    }
   ],
   "source": [
    "# Dendrogramme des joueurs\n",
    "fonction_linkage(data_to_use)"
   ]
  },
  {
   "cell_type": "code",
   "execution_count": 18,
   "metadata": {},
   "outputs": [
    {
     "name": "stderr",
     "output_type": "stream",
     "text": [
      "/home/sabrina/anaconda3/lib/python3.6/site-packages/ipykernel_launcher.py:7: SettingWithCopyWarning: \n",
      "A value is trying to be set on a copy of a slice from a DataFrame\n",
      "\n",
      "See the caveats in the documentation: http://pandas.pydata.org/pandas-docs/stable/indexing.html#indexing-view-versus-copy\n",
      "  import sys\n",
      "/home/sabrina/anaconda3/lib/python3.6/site-packages/ipykernel_launcher.py:3: UserWarning: Boolean Series key will be reindexed to match DataFrame index.\n",
      "  This is separate from the ipykernel package so we can avoid doing imports until\n"
     ]
    }
   ],
   "source": [
    "# Récupération des données pour le clustering avce k_means\n",
    "data_to_use = get_data(data_row)\n",
    "data_to_use = remove_data_test(data_to_use)\n",
    "data_to_use = data_to_use[columns_playerattributes_needed]"
   ]
  },
  {
   "cell_type": "code",
   "execution_count": 19,
   "metadata": {
    "collapsed": true
   },
   "outputs": [],
   "source": [
    "# Utilisation de k_means sklearn pour définir les 4 clusters\n",
    "k_means = k_means_sklearn(data_to_use)"
   ]
  },
  {
   "cell_type": "code",
   "execution_count": 20,
   "metadata": {
    "collapsed": true
   },
   "outputs": [],
   "source": [
    "# Récupération des joueurs pour la vérification de la validité du clustering\n",
    "attaquants = get_attaquants()\n",
    "defenseurs = get_defenseurs()\n",
    "milieu_de_terrain = get_milieu_de_terrain()\n",
    "gardiens_de_buts = get_gardiens_de_buts()"
   ]
  },
  {
   "cell_type": "code",
   "execution_count": 28,
   "metadata": {
    "collapsed": true
   },
   "outputs": [],
   "source": [
    "# Utilisation de l'algorithme k_moyennes\n",
    "c_km = clustering_km(data_to_use, 4, 1000, 0.005) # Instantiation \n",
    "c_km.train()"
   ]
  },
  {
   "cell_type": "markdown",
   "metadata": {},
   "source": [
    "## Partie 5 - Résultats"
   ]
  },
  {
   "cell_type": "code",
   "execution_count": 23,
   "metadata": {
    "collapsed": true
   },
   "outputs": [],
   "source": [
    "# Transformation des données pour l'affichage\n",
    "data_embedded_kmeans = transformer_donnees_kmeans(data_to_use)\n",
    "k_means_ = k_means_sklearn(data_embedded_kmeans)"
   ]
  },
  {
   "cell_type": "code",
   "execution_count": 24,
   "metadata": {},
   "outputs": [
    {
     "data": {
      "image/png": "[encoded data removed]",
      "text/plain": [
       "<matplotlib.figure.Figure at 0x7f2edd5576d8>"
      ]
     },
     "metadata": {},
     "output_type": "display_data"
    }
   ],
   "source": [
    "# Affichage des clusters en utilisant k_means des sklearn\n",
    "afficher_clustering(data_embedded_kmeans, k_means_.labels_, k_means_.cluster_centers_)"
   ]
  },
  {
   "cell_type": "code",
   "execution_count": 31,
   "metadata": {},
   "outputs": [
    {
     "name": "stdout",
     "output_type": "stream",
     "text": [
      "Le résultat sur les attaquants:\n",
      "[0 0 0 0]\n",
      "Le résultat sur les défenseurs:\n",
      "[3 3 3 3]\n",
      "Le résultat sur les milieu de terrain:\n",
      "[3 3 3 3]\n",
      "Le résultat sur les gardiens du buts:\n",
      "[2 2 2 2]\n"
     ]
    }
   ],
   "source": [
    "test_clustering(k_means)"
   ]
  },
  {
   "cell_type": "code",
   "execution_count": 32,
   "metadata": {},
   "outputs": [
    {
     "name": "stdout",
     "output_type": "stream",
     "text": [
      "Prédiction sur les attaquants:\n",
      "2\n",
      "2\n",
      "2\n",
      "2\n",
      "Prédiction sur les defenseurs:\n",
      "3\n",
      "3\n",
      "3\n",
      "3\n",
      "Prédiction sur les milieu de terrains:\n",
      "2\n",
      "2\n",
      "2\n",
      "2\n",
      "Prédiction sur les gardiens de buts:\n",
      "0\n",
      "0\n",
      "0\n",
      "0\n"
     ]
    }
   ],
   "source": [
    "# Prédiction avec l'algorithme k_moyennes\n",
    "# Les attaquants\n",
    "print(\"Prédiction sur les attaquants:\")\n",
    "for a in attaquants:\n",
    "    print(c_km.predict(a))\n",
    "# Les defenseurs\n",
    "print(\"Prédiction sur les defenseurs:\")\n",
    "for d in defenseurs:\n",
    "    print(c_km.predict(d))\n",
    "# Les milieu de terrains\n",
    "print(\"Prédiction sur les milieu de terrains:\")\n",
    "for m in milieu_de_terrain:\n",
    "    print(c_km.predict(m))\n",
    "# Les gardiens de buts\n",
    "print(\"Prédiction sur les gardiens de buts:\")\n",
    "for g in gardiens_de_buts:\n",
    "    print(c_km.predict(g))"
   ]
  },
  {
   "cell_type": "markdown",
   "metadata": {},
   "source": [
    "## Partie 6 - Analyse"
   ]
  },
  {
   "cell_type": "markdown",
   "metadata": {},
   "source": [
    "<ul>\n",
    "<li> Le clustering établi par l'algorithme des k-moyennes forme bien 4 clusters différents - d'après l'affichage obtenu après application du TSNE pour projeter les données sur 2 dimensions -\n",
    "</li>\n",
    "<li>\n",
    "La prédiction du cluster auquel appartient un joueur avec de bonnes performances (considérés comme un outlayer) par example Gerard Pique ou bien Andres Iniesta se fait avec certaines confusions à cause de leurs hautes performances. De ce fait, une application de k-means de sklearn montre que les défenseurs sont confondus avec les milieus de terrain et une application de notre algorithme de k-moyennes rend une certaine confusion entre les milieus de terrains et les attaquants.<br>\n",
    "Dans les deux cas, les attaquants et les gardiens de buts sont toujours bien séparés. \n",
    "</li>\n",
    "</ul>"
   ]
  }
 ],
 "metadata": {
  "kernelspec": {
   "display_name": "Python 3",
   "language": "python",
   "name": "python3"
  },
  "language_info": {
   "codemirror_mode": {
    "name": "ipython",
    "version": 3
   },
   "file_extension": ".py",
   "mimetype": "text/x-python",
   "name": "python",
   "nbconvert_exporter": "python",
   "pygments_lexer": "ipython3",
   "version": "3.6.3"
  }
 },
 "nbformat": 4,
 "nbformat_minor": 1
}

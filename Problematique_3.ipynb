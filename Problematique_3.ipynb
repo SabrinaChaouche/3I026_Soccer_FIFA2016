{
 "cells": [
  {
   "cell_type": "markdown",
   "metadata": {},
   "source": [
    "** Mohamed ALLILI & Sabrina CHAOUCHE **"
   ]
  },
  {
   "cell_type": "markdown",
   "metadata": {},
   "source": [
    "Mohamed ALLILI & Sabrina CHAOUCHE"
   ]
  },
  {
   "cell_type": "markdown",
   "metadata": {
    "collapsed": true
   },
   "source": [
    "## Partie 1 - Description du problème"
   ]
  },
  {
   "cell_type": "markdown",
   "metadata": {},
   "source": [
    "Étude de la fiabilité des sites de paris sportifs (côtes avant match)"
   ]
  },
  {
   "cell_type": "markdown",
   "metadata": {},
   "source": [
    "## Partie 2 - Modèle"
   ]
  },
  {
   "cell_type": "markdown",
   "metadata": {},
   "source": [
    "### Statistique déscreptive :\n",
    "<ol>\n",
    "<li>\n",
    "Pour chaque site et pour chaque match, on récupère les côtes d’avant match. Selon la côte minimale on déduit le résultat probable et on le compare avec le résultat de fin du match.\n",
    "</li>\n",
    "<li>\n",
    "Pour tous les sites et pour chaque match, on prend les côtes d’avant match. Pour chaque site on récupère la côte minimale et on déduit son résultat probable, puis on prend le résultat probable majoritaire parmi ceux de tous les sites et on le compare avec le résultat de fin de match.\n",
    "</li>\n",
    "</ol>\n",
    "Dans les 2 cas, pour tous les matchs, on compte le nombre d’erreurs (erreur par match si on prend la côte minimale pour déduire le résultat du match) pour avoir à la fin un taux d’erreur.  $taux_{erreur} = \\frac{nombre_{erreurs}}{nombre\\_total_{matchs}}$."
   ]
  },
  {
   "cell_type": "markdown",
   "metadata": {},
   "source": [
    "## Partie 3 - Code"
   ]
  },
  {
   "cell_type": "code",
   "execution_count": 1,
   "metadata": {},
   "outputs": [
    {
     "name": "stdout",
     "output_type": "stream",
     "text": [
      "\n"
     ]
    }
   ],
   "source": [
    "\"\"\"\n",
    "Variables importantes :\n",
    "    * data_player : données de la table player\n",
    "    * data_playerattributes : données de la table playerattributes\n",
    "    * data_team : données de la table team\n",
    "    * data_teamattributes : données de la table teamattributes\n",
    "    * data_match : données de la table match\n",
    "    * data_country : données de la table country\n",
    "    \n",
    "    * countries : liste des pays\n",
    "    * leagues : liste des ligues (championnats)\n",
    "    ----> dans la table match il y a une seule ligue par pays\n",
    "    * player_potentiel : le potentiel de chaque joueur (moyenne)\n",
    "    * columns_cote : noms des colonnes correspondant aux sites de paris sportifs (home, draw, away)\n",
    "    * columns_result_match : noms des colonnes colonnes dont on a besoin ( 'country_id', 'league_id', \\ \n",
    "                                'season', 'date', 'match_api_id', 'home_team_api_id', 'away_team_api_id', \\ \n",
    "                                'home_team_goal', 'away_team_goal' )\n",
    "    * data_cotes : DataFrame de data_match avec les colonnes de columns_cote et columns_result_match\n",
    "    * nom_sites : liste des noms des sites (sans 'H' ou 'D' ou 'A' à la fin)\n",
    "    * liste_championnats : liste de DataFrames où chaque DataFrame contient uniquement les données d'un championnat\n",
    "    \n",
    "    * columns_player_home : nom des colonnes pour les IDs des joueurs home dans match\n",
    "    * columns_player_away : nom des colonnes pour les IDs des joueurs away dans match\n",
    "    * columns_team_match : nom des colonnes utiles à garder (équipes, buts, saison, date ...)\n",
    "    * data_match_players : DataFrame de data_match avec les colonnes de columns_player_home, columns_player_away. \\\n",
    "                            En supprimant les lignes avec des valeurs nulles (car s'il manque un joueur le score de \\\n",
    "                            l'équipe qu'on calcule n'est pas fiable).\n",
    "    * \n",
    "\"\"\"\n",
    "print()"
   ]
  },
  {
   "cell_type": "code",
   "execution_count": 2,
   "metadata": {
    "collapsed": true
   },
   "outputs": [],
   "source": [
    "import numpy as np\n",
    "import pandas as pd\n",
    "from datetime import datetime as dt\n",
    "import matplotlib.pyplot as plt\n",
    "%matplotlib inline  "
   ]
  },
  {
   "cell_type": "code",
   "execution_count": 3,
   "metadata": {
    "collapsed": true
   },
   "outputs": [],
   "source": [
    "def moyenne(liste): \n",
    "    \"\"\"calcul de la moyenne des valeurs de liste\"\"\"\n",
    "    if (liste!= []): \n",
    "        return float(sum(liste)) / len(liste)\n",
    "    else:\n",
    "        return None\n",
    "\n",
    "def moyenne_dict_val(dic):\n",
    "    \"\"\"calcul de la moyenne des valeurs du dictionnaire dic\"\"\"\n",
    "    liste_tmp = list()\n",
    "    for k,v in dic:\n",
    "        liste_tmp.append(v)\n",
    "    return moyenne(liste_tmp)\n"
   ]
  },
  {
   "cell_type": "code",
   "execution_count": 4,
   "metadata": {
    "collapsed": true
   },
   "outputs": [],
   "source": [
    "def get_match_season(data, season, _id=None):\n",
    "    \"\"\"\n",
    "    data : ensemble de matchs\n",
    "    season : une saison donnée (ex: 2008/2009)\n",
    "    _id : id d'un pays\n",
    "    ---> la fonction retourn tout les matchs de la saison 'season' si _id n'est pas donné \\\n",
    "            sinon les matchs de la saison 'season' du pays d'id=_id  \n",
    "    \"\"\"\n",
    "    if _id != None:\n",
    "        match_season = data.groupby(\"season\").get_group(season)\n",
    "        match_season_pays = match_season.groupby(\"country_id\").get_group(_id)\n",
    "        #on les trie\n",
    "        match_season_pays = match_season_pays.sort_values(by=['date'], inplace=False)\n",
    "        return match_season_pays\n",
    "    else:        \n",
    "        match_season = data.groupby(\"season\").get_group(season)\n",
    "        #on les trie\n",
    "        match_season = match_season.sort_values(by=['date'], inplace=False)\n",
    "        return match_season\n",
    "    "
   ]
  },
  {
   "cell_type": "code",
   "execution_count": 5,
   "metadata": {
    "collapsed": true
   },
   "outputs": [],
   "source": [
    "def get_stat_site(nom, df):\n",
    "    \"\"\"\n",
    "    nom : nom d'un site parmi ceux de la table match\n",
    "    df : un ensemble de données (des matchs)\n",
    "    --> la fonction retourne une liste 'liste_cote' où pour chaque ligne de df d'indice i, on lui associe à la ligne i \\\n",
    "                                        de 'liste_cote' 1 si les côtes avant match étaient fiables \n",
    "                                        -1 sinon\n",
    "    \"\"\"\n",
    "    liste_cote = list()\n",
    "    data = df[columns_result_match+[nom+'H', nom+'D', nom+'A']]\n",
    "    data = data.dropna(inplace=False)\n",
    "    lig, col = data.shape\n",
    "    for i in range(lig):\n",
    "        row = data.iloc[i]\n",
    "        but1 = row['home_team_goal']\n",
    "        but2 = row['away_team_goal']\n",
    "        coteH = row[nom+'H']\n",
    "        coteD = row[nom+'D']\n",
    "        coteA = row[nom+'A']\n",
    "        coteMin = min( min(coteH, coteD), coteA )\n",
    "        if coteMin == coteH: # victoire equipe home\n",
    "            if but1>but2:\n",
    "                liste_cote.append(1)\n",
    "            else:\n",
    "                liste_cote.append(-1)\n",
    "        elif coteMin == coteD: # match nul\n",
    "            if but1==but2:\n",
    "                liste_cote.append(1)\n",
    "            else:\n",
    "                liste_cote.append(-1)\n",
    "        elif coteMin == coteA: # victoire equipe away\n",
    "            if but1<but2:\n",
    "                liste_cote.append(1)\n",
    "            else:\n",
    "                liste_cote.append(-1)\n",
    "        else:\n",
    "            print(\"ERREUR : get_stat_site *** dans le code\")\n",
    "            return None\n",
    "    #if len(liste_cote)==0:\n",
    "    #     return -1\n",
    "    return liste_cote"
   ]
  },
  {
   "cell_type": "code",
   "execution_count": 6,
   "metadata": {
    "collapsed": true
   },
   "outputs": [],
   "source": [
    "def get_stat_site_global(noms, df):\n",
    "    \"\"\"\n",
    "    noms : ensemble de noms de sites de la table match\n",
    "    df : un ensemble de données (des matchs)\n",
    "    --> la fonction retourne une liste 'liste_cote' où pour chaque ligne de df d'indice i, on lui associe à la ligne i \\\n",
    "                                        de 'liste_cote' 1 si l'ensemble des côtes avant match étaient fiable c-à-d la \\\n",
    "                                        majorité des sites ont eu des côte avant match correspondant au résultat, \\\n",
    "                                        -1 sinon\n",
    "    \"\"\"\n",
    "    data = df\n",
    "    liste_cote = list()\n",
    "    noms_h = []\n",
    "    noms_d = []\n",
    "    noms_a = []\n",
    "    for nom in noms:\n",
    "        noms_h.append(nom+'H')\n",
    "        noms_d.append(nom+'D')\n",
    "        noms_a.append(nom+'A')\n",
    "    lig, col = data.shape\n",
    "    for i in range(lig):\n",
    "        row = data.iloc[i]\n",
    "        but1 = row['home_team_goal']\n",
    "        but2 = row['away_team_goal']\n",
    "        coteH = 0\n",
    "        coteD = 0\n",
    "        coteA = 0\n",
    "        for j in range(len(noms)):\n",
    "            rowna = row.fillna(0)\n",
    "            h = rowna[noms_h[j]]\n",
    "            d = rowna[noms_d[j]]\n",
    "            a = rowna[noms_a[j]]\n",
    "            m = min(min(h,d), a)\n",
    "            if m==h: coteH+=1\n",
    "            elif m==d: coteD+=1\n",
    "            elif m==a: coteA+=1\n",
    "        resMax = max(max(coteH, coteD), coteA)\n",
    "        if resMax == coteH: # victoire equipe home\n",
    "            if but1>but2:\n",
    "                liste_cote.append(1)\n",
    "            else:\n",
    "                liste_cote.append(-1)\n",
    "        elif resMax == coteD: # match nul\n",
    "            if but1==but2:\n",
    "                liste_cote.append(1)\n",
    "            else:\n",
    "                liste_cote.append(-1)\n",
    "        elif resMax == coteA: # victoire equipe away\n",
    "            if but1<but2:\n",
    "                liste_cote.append(1)\n",
    "            else:\n",
    "                liste_cote.append(-1)\n",
    "        else:\n",
    "            print(\"ERREUR : get_stat_site *** dans le code\")\n",
    "            return None\n",
    "    return liste_cote"
   ]
  },
  {
   "cell_type": "markdown",
   "metadata": {},
   "source": [
    "## Partie 4 - Protocole expérimental"
   ]
  },
  {
   "cell_type": "code",
   "execution_count": 7,
   "metadata": {
    "collapsed": true
   },
   "outputs": [],
   "source": [
    "data_player = pd.read_csv(\"soccer_csv/player.csv\")\n",
    "data_playerattributes = pd.read_csv(\"soccer_csv/playerattributes.csv\")"
   ]
  },
  {
   "cell_type": "code",
   "execution_count": 8,
   "metadata": {},
   "outputs": [
    {
     "data": {
      "text/html": [
       "<div>\n",
       "<style>\n",
       "    .dataframe thead tr:only-child th {\n",
       "        text-align: right;\n",
       "    }\n",
       "\n",
       "    .dataframe thead th {\n",
       "        text-align: left;\n",
       "    }\n",
       "\n",
       "    .dataframe tbody tr th {\n",
       "        vertical-align: top;\n",
       "    }\n",
       "</style>\n",
       "<table border=\"1\" class=\"dataframe\">\n",
       "  <thead>\n",
       "    <tr style=\"text-align: right;\">\n",
       "      <th></th>\n",
       "      <th>id</th>\n",
       "      <th>player_fifa_api_id</th>\n",
       "      <th>player_api_id</th>\n",
       "      <th>date</th>\n",
       "      <th>overall_rating</th>\n",
       "      <th>potential</th>\n",
       "      <th>preferred_foot</th>\n",
       "      <th>attacking_work_rate</th>\n",
       "      <th>defensive_work_rate</th>\n",
       "      <th>crossing</th>\n",
       "      <th>...</th>\n",
       "      <th>vision</th>\n",
       "      <th>penalties</th>\n",
       "      <th>marking</th>\n",
       "      <th>standing_tackle</th>\n",
       "      <th>sliding_tackle</th>\n",
       "      <th>gk_diving</th>\n",
       "      <th>gk_handling</th>\n",
       "      <th>gk_kicking</th>\n",
       "      <th>gk_positioning</th>\n",
       "      <th>gk_reflexes</th>\n",
       "    </tr>\n",
       "  </thead>\n",
       "  <tbody>\n",
       "    <tr>\n",
       "      <th>0</th>\n",
       "      <td>1</td>\n",
       "      <td>218353</td>\n",
       "      <td>505942</td>\n",
       "      <td>2016-02-18 00:00:00</td>\n",
       "      <td>67.0</td>\n",
       "      <td>71.0</td>\n",
       "      <td>right</td>\n",
       "      <td>medium</td>\n",
       "      <td>medium</td>\n",
       "      <td>49.0</td>\n",
       "      <td>...</td>\n",
       "      <td>54.0</td>\n",
       "      <td>48.0</td>\n",
       "      <td>65.0</td>\n",
       "      <td>69.0</td>\n",
       "      <td>69.0</td>\n",
       "      <td>6.0</td>\n",
       "      <td>11.0</td>\n",
       "      <td>10.0</td>\n",
       "      <td>8.0</td>\n",
       "      <td>8.0</td>\n",
       "    </tr>\n",
       "    <tr>\n",
       "      <th>1</th>\n",
       "      <td>2</td>\n",
       "      <td>218353</td>\n",
       "      <td>505942</td>\n",
       "      <td>2015-11-19 00:00:00</td>\n",
       "      <td>67.0</td>\n",
       "      <td>71.0</td>\n",
       "      <td>right</td>\n",
       "      <td>medium</td>\n",
       "      <td>medium</td>\n",
       "      <td>49.0</td>\n",
       "      <td>...</td>\n",
       "      <td>54.0</td>\n",
       "      <td>48.0</td>\n",
       "      <td>65.0</td>\n",
       "      <td>69.0</td>\n",
       "      <td>69.0</td>\n",
       "      <td>6.0</td>\n",
       "      <td>11.0</td>\n",
       "      <td>10.0</td>\n",
       "      <td>8.0</td>\n",
       "      <td>8.0</td>\n",
       "    </tr>\n",
       "    <tr>\n",
       "      <th>2</th>\n",
       "      <td>3</td>\n",
       "      <td>218353</td>\n",
       "      <td>505942</td>\n",
       "      <td>2015-09-21 00:00:00</td>\n",
       "      <td>62.0</td>\n",
       "      <td>66.0</td>\n",
       "      <td>right</td>\n",
       "      <td>medium</td>\n",
       "      <td>medium</td>\n",
       "      <td>49.0</td>\n",
       "      <td>...</td>\n",
       "      <td>54.0</td>\n",
       "      <td>48.0</td>\n",
       "      <td>65.0</td>\n",
       "      <td>66.0</td>\n",
       "      <td>69.0</td>\n",
       "      <td>6.0</td>\n",
       "      <td>11.0</td>\n",
       "      <td>10.0</td>\n",
       "      <td>8.0</td>\n",
       "      <td>8.0</td>\n",
       "    </tr>\n",
       "    <tr>\n",
       "      <th>3</th>\n",
       "      <td>4</td>\n",
       "      <td>218353</td>\n",
       "      <td>505942</td>\n",
       "      <td>2015-03-20 00:00:00</td>\n",
       "      <td>61.0</td>\n",
       "      <td>65.0</td>\n",
       "      <td>right</td>\n",
       "      <td>medium</td>\n",
       "      <td>medium</td>\n",
       "      <td>48.0</td>\n",
       "      <td>...</td>\n",
       "      <td>53.0</td>\n",
       "      <td>47.0</td>\n",
       "      <td>62.0</td>\n",
       "      <td>63.0</td>\n",
       "      <td>66.0</td>\n",
       "      <td>5.0</td>\n",
       "      <td>10.0</td>\n",
       "      <td>9.0</td>\n",
       "      <td>7.0</td>\n",
       "      <td>7.0</td>\n",
       "    </tr>\n",
       "    <tr>\n",
       "      <th>4</th>\n",
       "      <td>5</td>\n",
       "      <td>218353</td>\n",
       "      <td>505942</td>\n",
       "      <td>2007-02-22 00:00:00</td>\n",
       "      <td>61.0</td>\n",
       "      <td>65.0</td>\n",
       "      <td>right</td>\n",
       "      <td>medium</td>\n",
       "      <td>medium</td>\n",
       "      <td>48.0</td>\n",
       "      <td>...</td>\n",
       "      <td>53.0</td>\n",
       "      <td>47.0</td>\n",
       "      <td>62.0</td>\n",
       "      <td>63.0</td>\n",
       "      <td>66.0</td>\n",
       "      <td>5.0</td>\n",
       "      <td>10.0</td>\n",
       "      <td>9.0</td>\n",
       "      <td>7.0</td>\n",
       "      <td>7.0</td>\n",
       "    </tr>\n",
       "  </tbody>\n",
       "</table>\n",
       "<p>5 rows × 42 columns</p>\n",
       "</div>"
      ],
      "text/plain": [
       "   id  player_fifa_api_id  player_api_id                 date  overall_rating  \\\n",
       "0   1              218353         505942  2016-02-18 00:00:00            67.0   \n",
       "1   2              218353         505942  2015-11-19 00:00:00            67.0   \n",
       "2   3              218353         505942  2015-09-21 00:00:00            62.0   \n",
       "3   4              218353         505942  2015-03-20 00:00:00            61.0   \n",
       "4   5              218353         505942  2007-02-22 00:00:00            61.0   \n",
       "\n",
       "   potential preferred_foot attacking_work_rate defensive_work_rate  crossing  \\\n",
       "0       71.0          right              medium              medium      49.0   \n",
       "1       71.0          right              medium              medium      49.0   \n",
       "2       66.0          right              medium              medium      49.0   \n",
       "3       65.0          right              medium              medium      48.0   \n",
       "4       65.0          right              medium              medium      48.0   \n",
       "\n",
       "      ...       vision  penalties  marking  standing_tackle  sliding_tackle  \\\n",
       "0     ...         54.0       48.0     65.0             69.0            69.0   \n",
       "1     ...         54.0       48.0     65.0             69.0            69.0   \n",
       "2     ...         54.0       48.0     65.0             66.0            69.0   \n",
       "3     ...         53.0       47.0     62.0             63.0            66.0   \n",
       "4     ...         53.0       47.0     62.0             63.0            66.0   \n",
       "\n",
       "   gk_diving  gk_handling  gk_kicking  gk_positioning  gk_reflexes  \n",
       "0        6.0         11.0        10.0             8.0          8.0  \n",
       "1        6.0         11.0        10.0             8.0          8.0  \n",
       "2        6.0         11.0        10.0             8.0          8.0  \n",
       "3        5.0         10.0         9.0             7.0          7.0  \n",
       "4        5.0         10.0         9.0             7.0          7.0  \n",
       "\n",
       "[5 rows x 42 columns]"
      ]
     },
     "execution_count": 8,
     "metadata": {},
     "output_type": "execute_result"
    }
   ],
   "source": [
    "data_playerattributes.head()"
   ]
  },
  {
   "cell_type": "code",
   "execution_count": 9,
   "metadata": {
    "collapsed": true
   },
   "outputs": [],
   "source": [
    "data_team = pd.read_csv(\"soccer_csv/team.csv\")\n",
    "data_teamattributes = pd.read_csv(\"soccer_csv/teamattributes.csv\")"
   ]
  },
  {
   "cell_type": "code",
   "execution_count": 10,
   "metadata": {},
   "outputs": [
    {
     "data": {
      "text/html": [
       "<div>\n",
       "<style>\n",
       "    .dataframe thead tr:only-child th {\n",
       "        text-align: right;\n",
       "    }\n",
       "\n",
       "    .dataframe thead th {\n",
       "        text-align: left;\n",
       "    }\n",
       "\n",
       "    .dataframe tbody tr th {\n",
       "        vertical-align: top;\n",
       "    }\n",
       "</style>\n",
       "<table border=\"1\" class=\"dataframe\">\n",
       "  <thead>\n",
       "    <tr style=\"text-align: right;\">\n",
       "      <th></th>\n",
       "      <th>id</th>\n",
       "      <th>team_fifa_api_id</th>\n",
       "      <th>team_api_id</th>\n",
       "      <th>date</th>\n",
       "      <th>buildUpPlaySpeed</th>\n",
       "      <th>buildUpPlayDribbling</th>\n",
       "      <th>buildUpPlayDribblingClass</th>\n",
       "      <th>buildUpPlayPassing</th>\n",
       "      <th>buildUpPlayPassingClass</th>\n",
       "      <th>buildUpPlayPositioningClass</th>\n",
       "      <th>...</th>\n",
       "      <th>chanceCreationShooting</th>\n",
       "      <th>chanceCreationShootingClass</th>\n",
       "      <th>chanceCreationPositioningClass</th>\n",
       "      <th>defencePressure</th>\n",
       "      <th>defencePressureClass</th>\n",
       "      <th>defenceAggression</th>\n",
       "      <th>defenceAggressionClass</th>\n",
       "      <th>defenceTeamWidth</th>\n",
       "      <th>defenceTeamWidthClass</th>\n",
       "      <th>defenceDefenderLineClass</th>\n",
       "    </tr>\n",
       "    <tr>\n",
       "      <th>buildUpPlaySpeedClass</th>\n",
       "      <th></th>\n",
       "      <th></th>\n",
       "      <th></th>\n",
       "      <th></th>\n",
       "      <th></th>\n",
       "      <th></th>\n",
       "      <th></th>\n",
       "      <th></th>\n",
       "      <th></th>\n",
       "      <th></th>\n",
       "      <th></th>\n",
       "      <th></th>\n",
       "      <th></th>\n",
       "      <th></th>\n",
       "      <th></th>\n",
       "      <th></th>\n",
       "      <th></th>\n",
       "      <th></th>\n",
       "      <th></th>\n",
       "      <th></th>\n",
       "      <th></th>\n",
       "    </tr>\n",
       "  </thead>\n",
       "  <tbody>\n",
       "    <tr>\n",
       "      <th>Balanced</th>\n",
       "      <td>1184</td>\n",
       "      <td>1184</td>\n",
       "      <td>1184</td>\n",
       "      <td>1184</td>\n",
       "      <td>1184</td>\n",
       "      <td>430</td>\n",
       "      <td>1184</td>\n",
       "      <td>1184</td>\n",
       "      <td>1184</td>\n",
       "      <td>1184</td>\n",
       "      <td>...</td>\n",
       "      <td>1184</td>\n",
       "      <td>1184</td>\n",
       "      <td>1184</td>\n",
       "      <td>1184</td>\n",
       "      <td>1184</td>\n",
       "      <td>1184</td>\n",
       "      <td>1184</td>\n",
       "      <td>1184</td>\n",
       "      <td>1184</td>\n",
       "      <td>1184</td>\n",
       "    </tr>\n",
       "    <tr>\n",
       "      <th>Fast</th>\n",
       "      <td>172</td>\n",
       "      <td>172</td>\n",
       "      <td>172</td>\n",
       "      <td>172</td>\n",
       "      <td>172</td>\n",
       "      <td>50</td>\n",
       "      <td>172</td>\n",
       "      <td>172</td>\n",
       "      <td>172</td>\n",
       "      <td>172</td>\n",
       "      <td>...</td>\n",
       "      <td>172</td>\n",
       "      <td>172</td>\n",
       "      <td>172</td>\n",
       "      <td>172</td>\n",
       "      <td>172</td>\n",
       "      <td>172</td>\n",
       "      <td>172</td>\n",
       "      <td>172</td>\n",
       "      <td>172</td>\n",
       "      <td>172</td>\n",
       "    </tr>\n",
       "    <tr>\n",
       "      <th>Slow</th>\n",
       "      <td>102</td>\n",
       "      <td>102</td>\n",
       "      <td>102</td>\n",
       "      <td>102</td>\n",
       "      <td>102</td>\n",
       "      <td>9</td>\n",
       "      <td>102</td>\n",
       "      <td>102</td>\n",
       "      <td>102</td>\n",
       "      <td>102</td>\n",
       "      <td>...</td>\n",
       "      <td>102</td>\n",
       "      <td>102</td>\n",
       "      <td>102</td>\n",
       "      <td>102</td>\n",
       "      <td>102</td>\n",
       "      <td>102</td>\n",
       "      <td>102</td>\n",
       "      <td>102</td>\n",
       "      <td>102</td>\n",
       "      <td>102</td>\n",
       "    </tr>\n",
       "  </tbody>\n",
       "</table>\n",
       "<p>3 rows × 24 columns</p>\n",
       "</div>"
      ],
      "text/plain": [
       "                         id  team_fifa_api_id  team_api_id  date  \\\n",
       "buildUpPlaySpeedClass                                              \n",
       "Balanced               1184              1184         1184  1184   \n",
       "Fast                    172               172          172   172   \n",
       "Slow                    102               102          102   102   \n",
       "\n",
       "                       buildUpPlaySpeed  buildUpPlayDribbling  \\\n",
       "buildUpPlaySpeedClass                                           \n",
       "Balanced                           1184                   430   \n",
       "Fast                                172                    50   \n",
       "Slow                                102                     9   \n",
       "\n",
       "                       buildUpPlayDribblingClass  buildUpPlayPassing  \\\n",
       "buildUpPlaySpeedClass                                                  \n",
       "Balanced                                    1184                1184   \n",
       "Fast                                         172                 172   \n",
       "Slow                                         102                 102   \n",
       "\n",
       "                       buildUpPlayPassingClass  buildUpPlayPositioningClass  \\\n",
       "buildUpPlaySpeedClass                                                         \n",
       "Balanced                                  1184                         1184   \n",
       "Fast                                       172                          172   \n",
       "Slow                                       102                          102   \n",
       "\n",
       "                                 ...             chanceCreationShooting  \\\n",
       "buildUpPlaySpeedClass            ...                                      \n",
       "Balanced                         ...                               1184   \n",
       "Fast                             ...                                172   \n",
       "Slow                             ...                                102   \n",
       "\n",
       "                       chanceCreationShootingClass  \\\n",
       "buildUpPlaySpeedClass                                \n",
       "Balanced                                      1184   \n",
       "Fast                                           172   \n",
       "Slow                                           102   \n",
       "\n",
       "                       chanceCreationPositioningClass  defencePressure  \\\n",
       "buildUpPlaySpeedClass                                                    \n",
       "Balanced                                         1184             1184   \n",
       "Fast                                              172              172   \n",
       "Slow                                              102              102   \n",
       "\n",
       "                       defencePressureClass  defenceAggression  \\\n",
       "buildUpPlaySpeedClass                                            \n",
       "Balanced                               1184               1184   \n",
       "Fast                                    172                172   \n",
       "Slow                                    102                102   \n",
       "\n",
       "                       defenceAggressionClass  defenceTeamWidth  \\\n",
       "buildUpPlaySpeedClass                                             \n",
       "Balanced                                 1184              1184   \n",
       "Fast                                      172               172   \n",
       "Slow                                      102               102   \n",
       "\n",
       "                       defenceTeamWidthClass  defenceDefenderLineClass  \n",
       "buildUpPlaySpeedClass                                                   \n",
       "Balanced                                1184                      1184  \n",
       "Fast                                     172                       172  \n",
       "Slow                                     102                       102  \n",
       "\n",
       "[3 rows x 24 columns]"
      ]
     },
     "execution_count": 10,
     "metadata": {},
     "output_type": "execute_result"
    }
   ],
   "source": [
    "data_teamattributes.groupby(\"buildUpPlaySpeedClass\").count()"
   ]
  },
  {
   "cell_type": "code",
   "execution_count": 11,
   "metadata": {
    "collapsed": true
   },
   "outputs": [],
   "source": [
    "data_match = pd.read_csv(\"soccer_csv/match.csv\")"
   ]
  },
  {
   "cell_type": "code",
   "execution_count": 12,
   "metadata": {},
   "outputs": [
    {
     "data": {
      "text/html": [
       "<div>\n",
       "<style>\n",
       "    .dataframe thead tr:only-child th {\n",
       "        text-align: right;\n",
       "    }\n",
       "\n",
       "    .dataframe thead th {\n",
       "        text-align: left;\n",
       "    }\n",
       "\n",
       "    .dataframe tbody tr th {\n",
       "        vertical-align: top;\n",
       "    }\n",
       "</style>\n",
       "<table border=\"1\" class=\"dataframe\">\n",
       "  <thead>\n",
       "    <tr style=\"text-align: right;\">\n",
       "      <th></th>\n",
       "      <th>id</th>\n",
       "      <th>country_id</th>\n",
       "      <th>league_id</th>\n",
       "      <th>season</th>\n",
       "      <th>stage</th>\n",
       "      <th>date</th>\n",
       "      <th>match_api_id</th>\n",
       "      <th>home_team_api_id</th>\n",
       "      <th>away_team_api_id</th>\n",
       "      <th>home_team_goal</th>\n",
       "      <th>...</th>\n",
       "      <th>SJA</th>\n",
       "      <th>VCH</th>\n",
       "      <th>VCD</th>\n",
       "      <th>VCA</th>\n",
       "      <th>GBH</th>\n",
       "      <th>GBD</th>\n",
       "      <th>GBA</th>\n",
       "      <th>BSH</th>\n",
       "      <th>BSD</th>\n",
       "      <th>BSA</th>\n",
       "    </tr>\n",
       "  </thead>\n",
       "  <tbody>\n",
       "    <tr>\n",
       "      <th>0</th>\n",
       "      <td>1</td>\n",
       "      <td>1</td>\n",
       "      <td>1</td>\n",
       "      <td>2008/2009</td>\n",
       "      <td>1</td>\n",
       "      <td>2008-08-17 00:00:00</td>\n",
       "      <td>492473</td>\n",
       "      <td>9987</td>\n",
       "      <td>9993</td>\n",
       "      <td>1</td>\n",
       "      <td>...</td>\n",
       "      <td>4.00</td>\n",
       "      <td>1.65</td>\n",
       "      <td>3.40</td>\n",
       "      <td>4.50</td>\n",
       "      <td>1.78</td>\n",
       "      <td>3.25</td>\n",
       "      <td>4.00</td>\n",
       "      <td>1.73</td>\n",
       "      <td>3.40</td>\n",
       "      <td>4.20</td>\n",
       "    </tr>\n",
       "    <tr>\n",
       "      <th>1</th>\n",
       "      <td>2</td>\n",
       "      <td>1</td>\n",
       "      <td>1</td>\n",
       "      <td>2008/2009</td>\n",
       "      <td>1</td>\n",
       "      <td>2008-08-16 00:00:00</td>\n",
       "      <td>492474</td>\n",
       "      <td>10000</td>\n",
       "      <td>9994</td>\n",
       "      <td>0</td>\n",
       "      <td>...</td>\n",
       "      <td>3.80</td>\n",
       "      <td>2.00</td>\n",
       "      <td>3.25</td>\n",
       "      <td>3.25</td>\n",
       "      <td>1.85</td>\n",
       "      <td>3.25</td>\n",
       "      <td>3.75</td>\n",
       "      <td>1.91</td>\n",
       "      <td>3.25</td>\n",
       "      <td>3.60</td>\n",
       "    </tr>\n",
       "    <tr>\n",
       "      <th>2</th>\n",
       "      <td>3</td>\n",
       "      <td>1</td>\n",
       "      <td>1</td>\n",
       "      <td>2008/2009</td>\n",
       "      <td>1</td>\n",
       "      <td>2008-08-16 00:00:00</td>\n",
       "      <td>492475</td>\n",
       "      <td>9984</td>\n",
       "      <td>8635</td>\n",
       "      <td>0</td>\n",
       "      <td>...</td>\n",
       "      <td>2.50</td>\n",
       "      <td>2.35</td>\n",
       "      <td>3.25</td>\n",
       "      <td>2.65</td>\n",
       "      <td>2.50</td>\n",
       "      <td>3.20</td>\n",
       "      <td>2.50</td>\n",
       "      <td>2.30</td>\n",
       "      <td>3.20</td>\n",
       "      <td>2.75</td>\n",
       "    </tr>\n",
       "    <tr>\n",
       "      <th>3</th>\n",
       "      <td>4</td>\n",
       "      <td>1</td>\n",
       "      <td>1</td>\n",
       "      <td>2008/2009</td>\n",
       "      <td>1</td>\n",
       "      <td>2008-08-17 00:00:00</td>\n",
       "      <td>492476</td>\n",
       "      <td>9991</td>\n",
       "      <td>9998</td>\n",
       "      <td>5</td>\n",
       "      <td>...</td>\n",
       "      <td>7.50</td>\n",
       "      <td>1.45</td>\n",
       "      <td>3.75</td>\n",
       "      <td>6.50</td>\n",
       "      <td>1.50</td>\n",
       "      <td>3.75</td>\n",
       "      <td>5.50</td>\n",
       "      <td>1.44</td>\n",
       "      <td>3.75</td>\n",
       "      <td>6.50</td>\n",
       "    </tr>\n",
       "    <tr>\n",
       "      <th>4</th>\n",
       "      <td>5</td>\n",
       "      <td>1</td>\n",
       "      <td>1</td>\n",
       "      <td>2008/2009</td>\n",
       "      <td>1</td>\n",
       "      <td>2008-08-16 00:00:00</td>\n",
       "      <td>492477</td>\n",
       "      <td>7947</td>\n",
       "      <td>9985</td>\n",
       "      <td>1</td>\n",
       "      <td>...</td>\n",
       "      <td>1.73</td>\n",
       "      <td>4.50</td>\n",
       "      <td>3.40</td>\n",
       "      <td>1.65</td>\n",
       "      <td>4.50</td>\n",
       "      <td>3.50</td>\n",
       "      <td>1.65</td>\n",
       "      <td>4.75</td>\n",
       "      <td>3.30</td>\n",
       "      <td>1.67</td>\n",
       "    </tr>\n",
       "  </tbody>\n",
       "</table>\n",
       "<p>5 rows × 115 columns</p>\n",
       "</div>"
      ],
      "text/plain": [
       "   id  country_id  league_id     season  stage                 date  \\\n",
       "0   1           1          1  2008/2009      1  2008-08-17 00:00:00   \n",
       "1   2           1          1  2008/2009      1  2008-08-16 00:00:00   \n",
       "2   3           1          1  2008/2009      1  2008-08-16 00:00:00   \n",
       "3   4           1          1  2008/2009      1  2008-08-17 00:00:00   \n",
       "4   5           1          1  2008/2009      1  2008-08-16 00:00:00   \n",
       "\n",
       "   match_api_id  home_team_api_id  away_team_api_id  home_team_goal  ...   \\\n",
       "0        492473              9987              9993               1  ...    \n",
       "1        492474             10000              9994               0  ...    \n",
       "2        492475              9984              8635               0  ...    \n",
       "3        492476              9991              9998               5  ...    \n",
       "4        492477              7947              9985               1  ...    \n",
       "\n",
       "    SJA   VCH   VCD   VCA   GBH   GBD   GBA   BSH   BSD   BSA  \n",
       "0  4.00  1.65  3.40  4.50  1.78  3.25  4.00  1.73  3.40  4.20  \n",
       "1  3.80  2.00  3.25  3.25  1.85  3.25  3.75  1.91  3.25  3.60  \n",
       "2  2.50  2.35  3.25  2.65  2.50  3.20  2.50  2.30  3.20  2.75  \n",
       "3  7.50  1.45  3.75  6.50  1.50  3.75  5.50  1.44  3.75  6.50  \n",
       "4  1.73  4.50  3.40  1.65  4.50  3.50  1.65  4.75  3.30  1.67  \n",
       "\n",
       "[5 rows x 115 columns]"
      ]
     },
     "execution_count": 12,
     "metadata": {},
     "output_type": "execute_result"
    }
   ],
   "source": [
    "data_match.head()"
   ]
  },
  {
   "cell_type": "code",
   "execution_count": 13,
   "metadata": {},
   "outputs": [
    {
     "data": {
      "text/html": [
       "<div>\n",
       "<style>\n",
       "    .dataframe thead tr:only-child th {\n",
       "        text-align: right;\n",
       "    }\n",
       "\n",
       "    .dataframe thead th {\n",
       "        text-align: left;\n",
       "    }\n",
       "\n",
       "    .dataframe tbody tr th {\n",
       "        vertical-align: top;\n",
       "    }\n",
       "</style>\n",
       "<table border=\"1\" class=\"dataframe\">\n",
       "  <thead>\n",
       "    <tr style=\"text-align: right;\">\n",
       "      <th></th>\n",
       "      <th>id</th>\n",
       "      <th>country_id</th>\n",
       "      <th>league_id</th>\n",
       "      <th>season</th>\n",
       "      <th>stage</th>\n",
       "      <th>date</th>\n",
       "      <th>match_api_id</th>\n",
       "      <th>home_team_api_id</th>\n",
       "      <th>away_team_api_id</th>\n",
       "      <th>home_team_goal</th>\n",
       "      <th>...</th>\n",
       "      <th>SJA</th>\n",
       "      <th>VCH</th>\n",
       "      <th>VCD</th>\n",
       "      <th>VCA</th>\n",
       "      <th>GBH</th>\n",
       "      <th>GBD</th>\n",
       "      <th>GBA</th>\n",
       "      <th>BSH</th>\n",
       "      <th>BSD</th>\n",
       "      <th>BSA</th>\n",
       "    </tr>\n",
       "  </thead>\n",
       "  <tbody>\n",
       "    <tr>\n",
       "      <th>25974</th>\n",
       "      <td>25975</td>\n",
       "      <td>24558</td>\n",
       "      <td>24558</td>\n",
       "      <td>2015/2016</td>\n",
       "      <td>9</td>\n",
       "      <td>2015-09-22 00:00:00</td>\n",
       "      <td>1992091</td>\n",
       "      <td>10190</td>\n",
       "      <td>10191</td>\n",
       "      <td>1</td>\n",
       "      <td>...</td>\n",
       "      <td>NaN</td>\n",
       "      <td>NaN</td>\n",
       "      <td>NaN</td>\n",
       "      <td>NaN</td>\n",
       "      <td>NaN</td>\n",
       "      <td>NaN</td>\n",
       "      <td>NaN</td>\n",
       "      <td>NaN</td>\n",
       "      <td>NaN</td>\n",
       "      <td>NaN</td>\n",
       "    </tr>\n",
       "    <tr>\n",
       "      <th>25975</th>\n",
       "      <td>25976</td>\n",
       "      <td>24558</td>\n",
       "      <td>24558</td>\n",
       "      <td>2015/2016</td>\n",
       "      <td>9</td>\n",
       "      <td>2015-09-23 00:00:00</td>\n",
       "      <td>1992092</td>\n",
       "      <td>9824</td>\n",
       "      <td>10199</td>\n",
       "      <td>1</td>\n",
       "      <td>...</td>\n",
       "      <td>NaN</td>\n",
       "      <td>NaN</td>\n",
       "      <td>NaN</td>\n",
       "      <td>NaN</td>\n",
       "      <td>NaN</td>\n",
       "      <td>NaN</td>\n",
       "      <td>NaN</td>\n",
       "      <td>NaN</td>\n",
       "      <td>NaN</td>\n",
       "      <td>NaN</td>\n",
       "    </tr>\n",
       "    <tr>\n",
       "      <th>25976</th>\n",
       "      <td>25977</td>\n",
       "      <td>24558</td>\n",
       "      <td>24558</td>\n",
       "      <td>2015/2016</td>\n",
       "      <td>9</td>\n",
       "      <td>2015-09-23 00:00:00</td>\n",
       "      <td>1992093</td>\n",
       "      <td>9956</td>\n",
       "      <td>10179</td>\n",
       "      <td>2</td>\n",
       "      <td>...</td>\n",
       "      <td>NaN</td>\n",
       "      <td>NaN</td>\n",
       "      <td>NaN</td>\n",
       "      <td>NaN</td>\n",
       "      <td>NaN</td>\n",
       "      <td>NaN</td>\n",
       "      <td>NaN</td>\n",
       "      <td>NaN</td>\n",
       "      <td>NaN</td>\n",
       "      <td>NaN</td>\n",
       "    </tr>\n",
       "    <tr>\n",
       "      <th>25977</th>\n",
       "      <td>25978</td>\n",
       "      <td>24558</td>\n",
       "      <td>24558</td>\n",
       "      <td>2015/2016</td>\n",
       "      <td>9</td>\n",
       "      <td>2015-09-22 00:00:00</td>\n",
       "      <td>1992094</td>\n",
       "      <td>7896</td>\n",
       "      <td>10243</td>\n",
       "      <td>0</td>\n",
       "      <td>...</td>\n",
       "      <td>NaN</td>\n",
       "      <td>NaN</td>\n",
       "      <td>NaN</td>\n",
       "      <td>NaN</td>\n",
       "      <td>NaN</td>\n",
       "      <td>NaN</td>\n",
       "      <td>NaN</td>\n",
       "      <td>NaN</td>\n",
       "      <td>NaN</td>\n",
       "      <td>NaN</td>\n",
       "    </tr>\n",
       "    <tr>\n",
       "      <th>25978</th>\n",
       "      <td>25979</td>\n",
       "      <td>24558</td>\n",
       "      <td>24558</td>\n",
       "      <td>2015/2016</td>\n",
       "      <td>9</td>\n",
       "      <td>2015-09-23 00:00:00</td>\n",
       "      <td>1992095</td>\n",
       "      <td>10192</td>\n",
       "      <td>9931</td>\n",
       "      <td>4</td>\n",
       "      <td>...</td>\n",
       "      <td>NaN</td>\n",
       "      <td>NaN</td>\n",
       "      <td>NaN</td>\n",
       "      <td>NaN</td>\n",
       "      <td>NaN</td>\n",
       "      <td>NaN</td>\n",
       "      <td>NaN</td>\n",
       "      <td>NaN</td>\n",
       "      <td>NaN</td>\n",
       "      <td>NaN</td>\n",
       "    </tr>\n",
       "  </tbody>\n",
       "</table>\n",
       "<p>5 rows × 115 columns</p>\n",
       "</div>"
      ],
      "text/plain": [
       "          id  country_id  league_id     season  stage                 date  \\\n",
       "25974  25975       24558      24558  2015/2016      9  2015-09-22 00:00:00   \n",
       "25975  25976       24558      24558  2015/2016      9  2015-09-23 00:00:00   \n",
       "25976  25977       24558      24558  2015/2016      9  2015-09-23 00:00:00   \n",
       "25977  25978       24558      24558  2015/2016      9  2015-09-22 00:00:00   \n",
       "25978  25979       24558      24558  2015/2016      9  2015-09-23 00:00:00   \n",
       "\n",
       "       match_api_id  home_team_api_id  away_team_api_id  home_team_goal ...   \\\n",
       "25974       1992091             10190             10191               1 ...    \n",
       "25975       1992092              9824             10199               1 ...    \n",
       "25976       1992093              9956             10179               2 ...    \n",
       "25977       1992094              7896             10243               0 ...    \n",
       "25978       1992095             10192              9931               4 ...    \n",
       "\n",
       "       SJA  VCH  VCD  VCA  GBH  GBD  GBA  BSH  BSD  BSA  \n",
       "25974  NaN  NaN  NaN  NaN  NaN  NaN  NaN  NaN  NaN  NaN  \n",
       "25975  NaN  NaN  NaN  NaN  NaN  NaN  NaN  NaN  NaN  NaN  \n",
       "25976  NaN  NaN  NaN  NaN  NaN  NaN  NaN  NaN  NaN  NaN  \n",
       "25977  NaN  NaN  NaN  NaN  NaN  NaN  NaN  NaN  NaN  NaN  \n",
       "25978  NaN  NaN  NaN  NaN  NaN  NaN  NaN  NaN  NaN  NaN  \n",
       "\n",
       "[5 rows x 115 columns]"
      ]
     },
     "execution_count": 13,
     "metadata": {},
     "output_type": "execute_result"
    }
   ],
   "source": [
    "data_match.tail()"
   ]
  },
  {
   "cell_type": "code",
   "execution_count": 14,
   "metadata": {},
   "outputs": [
    {
     "name": "stdout",
     "output_type": "stream",
     "text": [
      "les colonnes de match\n",
      "id', 'country_id', 'league_id', 'season', 'stage', 'date', 'match_api_id', 'home_team_api_id', 'away_team_api_id', 'home_team_goal', 'away_team_goal', 'home_player_X1', 'home_player_X2', 'home_player_X3', 'home_player_X4', 'home_player_X5', 'home_player_X6', 'home_player_X7', 'home_player_X8', 'home_player_X9', 'home_player_X10', 'home_player_X11', 'away_player_X1', 'away_player_X2', 'away_player_X3', 'away_player_X4', 'away_player_X5', 'away_player_X6', 'away_player_X7', 'away_player_X8', 'away_player_X9', 'away_player_X10', 'away_player_X11', 'home_player_Y1', 'home_player_Y2', 'home_player_Y3', 'home_player_Y4', 'home_player_Y5', 'home_player_Y6', 'home_player_Y7', 'home_player_Y8', 'home_player_Y9', 'home_player_Y10', 'home_player_Y11', 'away_player_Y1', 'away_player_Y2', 'away_player_Y3', 'away_player_Y4', 'away_player_Y5', 'away_player_Y6', 'away_player_Y7', 'away_player_Y8', 'away_player_Y9', 'away_player_Y10', 'away_player_Y11', 'home_player_1', 'home_player_2', 'home_player_3', 'home_player_4', 'home_player_5', 'home_player_6', 'home_player_7', 'home_player_8', 'home_player_9', 'home_player_10', 'home_player_11', 'away_player_1', 'away_player_2', 'away_player_3', 'away_player_4', 'away_player_5', 'away_player_6', 'away_player_7', 'away_player_8', 'away_player_9', 'away_player_10', 'away_player_11', 'goal', 'shoton', 'shotoff', 'foulcommit', 'card', 'cross', 'corner', 'possession', 'B365H', 'B365D', 'B365A', 'BWH', 'BWD', 'BWA', 'IWH', 'IWD', 'IWA', 'LBH', 'LBD', 'LBA', 'PSH', 'PSD', 'PSA', 'WHH', 'WHD', 'WHA', 'SJH', 'SJD', 'SJA', 'VCH', 'VCD', 'VCA', 'GBH', 'GBD', 'GBA', 'BSH', 'BSD', 'BSA', '"
     ]
    }
   ],
   "source": [
    "print(\"les colonnes de match\")\n",
    "for i in range(len(data_match.columns)):\n",
    "    print(data_match.columns[i], end=\"', '\")"
   ]
  },
  {
   "cell_type": "code",
   "execution_count": 15,
   "metadata": {},
   "outputs": [
    {
     "name": "stdout",
     "output_type": "stream",
     "text": [
      "country_id :  [    1  1729  4769  7809 10257 13274 15722 17642 19694 21518 24558]\n",
      "league_id  :  [    1  1729  4769  7809 10257 13274 15722 17642 19694 21518 24558]\n"
     ]
    }
   ],
   "source": [
    "countries = data_match[\"country_id\"].unique()\n",
    "leagues = data_match[\"league_id\"].unique()\n",
    "print(\"country_id : \",countries)\n",
    "print(\"league_id  : \", leagues)"
   ]
  },
  {
   "cell_type": "code",
   "execution_count": 16,
   "metadata": {},
   "outputs": [
    {
     "name": "stdout",
     "output_type": "stream",
     "text": [
      "80  ->  foulcommit\n",
      "81  ->  card\n",
      "82  ->  cross\n",
      "83  ->  corner\n",
      "84  ->  possession\n",
      "85  ->  B365H\n",
      "86  ->  B365D\n",
      "87  ->  B365A\n",
      "88  ->  BWH\n",
      "89  ->  BWD\n",
      "90  ->  BWA\n",
      "91  ->  IWH\n",
      "92  ->  IWD\n",
      "93  ->  IWA\n",
      "94  ->  LBH\n",
      "95  ->  LBD\n",
      "96  ->  LBA\n",
      "97  ->  PSH\n",
      "98  ->  PSD\n",
      "99  ->  PSA\n",
      "100  ->  WHH\n",
      "101  ->  WHD\n",
      "102  ->  WHA\n",
      "103  ->  SJH\n",
      "104  ->  SJD\n",
      "105  ->  SJA\n",
      "106  ->  VCH\n",
      "107  ->  VCD\n",
      "108  ->  VCA\n",
      "109  ->  GBH\n",
      "110  ->  GBD\n",
      "111  ->  GBA\n",
      "112  ->  BSH\n",
      "113  ->  BSD\n",
      "114  ->  BSA\n"
     ]
    }
   ],
   "source": [
    "ind = 80\n",
    "while ind < len(data_match.columns) :\n",
    "    print(ind, \" -> \", data_match.columns[ind])\n",
    "    ind += 1"
   ]
  },
  {
   "cell_type": "code",
   "execution_count": 17,
   "metadata": {},
   "outputs": [
    {
     "name": "stdout",
     "output_type": "stream",
     "text": [
      "On récupère les colonnes correspondant aux sites de paris sportifs\n",
      "30\n"
     ]
    },
    {
     "data": {
      "text/plain": [
       "['B365H',\n",
       " 'B365D',\n",
       " 'B365A',\n",
       " 'BWH',\n",
       " 'BWD',\n",
       " 'BWA',\n",
       " 'IWH',\n",
       " 'IWD',\n",
       " 'IWA',\n",
       " 'LBH',\n",
       " 'LBD',\n",
       " 'LBA',\n",
       " 'PSH',\n",
       " 'PSD',\n",
       " 'PSA',\n",
       " 'WHH',\n",
       " 'WHD',\n",
       " 'WHA',\n",
       " 'SJH',\n",
       " 'SJD',\n",
       " 'SJA',\n",
       " 'VCH',\n",
       " 'VCD',\n",
       " 'VCA',\n",
       " 'GBH',\n",
       " 'GBD',\n",
       " 'GBA',\n",
       " 'BSH',\n",
       " 'BSD',\n",
       " 'BSA']"
      ]
     },
     "execution_count": 17,
     "metadata": {},
     "output_type": "execute_result"
    }
   ],
   "source": [
    "print(\"On récupère les colonnes correspondant aux sites de paris sportifs\")\n",
    "columns_cote = list()\n",
    "ind = 85\n",
    "i=0\n",
    "while ind+i < len(data_match.columns) :\n",
    "    columns_cote.append(data_match.columns[ind+i])\n",
    "    i += 1\n",
    "\n",
    "print(i)\n",
    "columns_cote\n"
   ]
  },
  {
   "cell_type": "code",
   "execution_count": 18,
   "metadata": {},
   "outputs": [
    {
     "name": "stdout",
     "output_type": "stream",
     "text": [
      "On crée un DataFrame contenant  les cotes des paris sportifs\n"
     ]
    },
    {
     "data": {
      "text/plain": [
       "country_id          25979\n",
       "league_id           25979\n",
       "season              25979\n",
       "date                25979\n",
       "match_api_id        25979\n",
       "home_team_api_id    25979\n",
       "away_team_api_id    25979\n",
       "home_team_goal      25979\n",
       "away_team_goal      25979\n",
       "B365H               22592\n",
       "B365D               22592\n",
       "B365A               22592\n",
       "BWH                 22575\n",
       "BWD                 22575\n",
       "BWA                 22575\n",
       "IWH                 22520\n",
       "IWD                 22520\n",
       "IWA                 22520\n",
       "LBH                 22556\n",
       "LBD                 22556\n",
       "LBA                 22556\n",
       "PSH                 11168\n",
       "PSD                 11168\n",
       "PSA                 11168\n",
       "WHH                 22571\n",
       "WHD                 22571\n",
       "WHA                 22571\n",
       "SJH                 17097\n",
       "SJD                 17097\n",
       "SJA                 17097\n",
       "VCH                 22568\n",
       "VCD                 22568\n",
       "VCA                 22568\n",
       "GBH                 14162\n",
       "GBD                 14162\n",
       "GBA                 14162\n",
       "BSH                 14161\n",
       "BSD                 14161\n",
       "BSA                 14161\n",
       "dtype: int64"
      ]
     },
     "execution_count": 18,
     "metadata": {},
     "output_type": "execute_result"
    }
   ],
   "source": [
    "columns_result_match = ['country_id', 'league_id', 'season', 'date', 'match_api_id', 'home_team_api_id', 'away_team_api_id', 'home_team_goal', 'away_team_goal']\n",
    "# On crée un DataFrame contenant  les cotes des paris sportifs\n",
    "print(\"On crée un DataFrame contenant  les cotes des paris sportifs\")\n",
    "data_cotes = pd.DataFrame(data_match[columns_result_match+columns_cote])\n",
    "data_cotes.count()"
   ]
  },
  {
   "cell_type": "code",
   "execution_count": 19,
   "metadata": {},
   "outputs": [
    {
     "data": {
      "text/html": [
       "<div>\n",
       "<style>\n",
       "    .dataframe thead tr:only-child th {\n",
       "        text-align: right;\n",
       "    }\n",
       "\n",
       "    .dataframe thead th {\n",
       "        text-align: left;\n",
       "    }\n",
       "\n",
       "    .dataframe tbody tr th {\n",
       "        vertical-align: top;\n",
       "    }\n",
       "</style>\n",
       "<table border=\"1\" class=\"dataframe\">\n",
       "  <thead>\n",
       "    <tr style=\"text-align: right;\">\n",
       "      <th></th>\n",
       "      <th>country_id</th>\n",
       "      <th>league_id</th>\n",
       "      <th>season</th>\n",
       "      <th>date</th>\n",
       "      <th>match_api_id</th>\n",
       "      <th>home_team_api_id</th>\n",
       "      <th>away_team_api_id</th>\n",
       "      <th>home_team_goal</th>\n",
       "      <th>away_team_goal</th>\n",
       "      <th>B365H</th>\n",
       "      <th>...</th>\n",
       "      <th>SJA</th>\n",
       "      <th>VCH</th>\n",
       "      <th>VCD</th>\n",
       "      <th>VCA</th>\n",
       "      <th>GBH</th>\n",
       "      <th>GBD</th>\n",
       "      <th>GBA</th>\n",
       "      <th>BSH</th>\n",
       "      <th>BSD</th>\n",
       "      <th>BSA</th>\n",
       "    </tr>\n",
       "  </thead>\n",
       "  <tbody>\n",
       "    <tr>\n",
       "      <th>0</th>\n",
       "      <td>1</td>\n",
       "      <td>1</td>\n",
       "      <td>2008/2009</td>\n",
       "      <td>2008-08-17 00:00:00</td>\n",
       "      <td>492473</td>\n",
       "      <td>9987</td>\n",
       "      <td>9993</td>\n",
       "      <td>1</td>\n",
       "      <td>1</td>\n",
       "      <td>1.73</td>\n",
       "      <td>...</td>\n",
       "      <td>4.00</td>\n",
       "      <td>1.65</td>\n",
       "      <td>3.40</td>\n",
       "      <td>4.50</td>\n",
       "      <td>1.78</td>\n",
       "      <td>3.25</td>\n",
       "      <td>4.00</td>\n",
       "      <td>1.73</td>\n",
       "      <td>3.40</td>\n",
       "      <td>4.20</td>\n",
       "    </tr>\n",
       "    <tr>\n",
       "      <th>1</th>\n",
       "      <td>1</td>\n",
       "      <td>1</td>\n",
       "      <td>2008/2009</td>\n",
       "      <td>2008-08-16 00:00:00</td>\n",
       "      <td>492474</td>\n",
       "      <td>10000</td>\n",
       "      <td>9994</td>\n",
       "      <td>0</td>\n",
       "      <td>0</td>\n",
       "      <td>1.95</td>\n",
       "      <td>...</td>\n",
       "      <td>3.80</td>\n",
       "      <td>2.00</td>\n",
       "      <td>3.25</td>\n",
       "      <td>3.25</td>\n",
       "      <td>1.85</td>\n",
       "      <td>3.25</td>\n",
       "      <td>3.75</td>\n",
       "      <td>1.91</td>\n",
       "      <td>3.25</td>\n",
       "      <td>3.60</td>\n",
       "    </tr>\n",
       "    <tr>\n",
       "      <th>2</th>\n",
       "      <td>1</td>\n",
       "      <td>1</td>\n",
       "      <td>2008/2009</td>\n",
       "      <td>2008-08-16 00:00:00</td>\n",
       "      <td>492475</td>\n",
       "      <td>9984</td>\n",
       "      <td>8635</td>\n",
       "      <td>0</td>\n",
       "      <td>3</td>\n",
       "      <td>2.38</td>\n",
       "      <td>...</td>\n",
       "      <td>2.50</td>\n",
       "      <td>2.35</td>\n",
       "      <td>3.25</td>\n",
       "      <td>2.65</td>\n",
       "      <td>2.50</td>\n",
       "      <td>3.20</td>\n",
       "      <td>2.50</td>\n",
       "      <td>2.30</td>\n",
       "      <td>3.20</td>\n",
       "      <td>2.75</td>\n",
       "    </tr>\n",
       "    <tr>\n",
       "      <th>3</th>\n",
       "      <td>1</td>\n",
       "      <td>1</td>\n",
       "      <td>2008/2009</td>\n",
       "      <td>2008-08-17 00:00:00</td>\n",
       "      <td>492476</td>\n",
       "      <td>9991</td>\n",
       "      <td>9998</td>\n",
       "      <td>5</td>\n",
       "      <td>0</td>\n",
       "      <td>1.44</td>\n",
       "      <td>...</td>\n",
       "      <td>7.50</td>\n",
       "      <td>1.45</td>\n",
       "      <td>3.75</td>\n",
       "      <td>6.50</td>\n",
       "      <td>1.50</td>\n",
       "      <td>3.75</td>\n",
       "      <td>5.50</td>\n",
       "      <td>1.44</td>\n",
       "      <td>3.75</td>\n",
       "      <td>6.50</td>\n",
       "    </tr>\n",
       "    <tr>\n",
       "      <th>4</th>\n",
       "      <td>1</td>\n",
       "      <td>1</td>\n",
       "      <td>2008/2009</td>\n",
       "      <td>2008-08-16 00:00:00</td>\n",
       "      <td>492477</td>\n",
       "      <td>7947</td>\n",
       "      <td>9985</td>\n",
       "      <td>1</td>\n",
       "      <td>3</td>\n",
       "      <td>5.00</td>\n",
       "      <td>...</td>\n",
       "      <td>1.73</td>\n",
       "      <td>4.50</td>\n",
       "      <td>3.40</td>\n",
       "      <td>1.65</td>\n",
       "      <td>4.50</td>\n",
       "      <td>3.50</td>\n",
       "      <td>1.65</td>\n",
       "      <td>4.75</td>\n",
       "      <td>3.30</td>\n",
       "      <td>1.67</td>\n",
       "    </tr>\n",
       "  </tbody>\n",
       "</table>\n",
       "<p>5 rows × 39 columns</p>\n",
       "</div>"
      ],
      "text/plain": [
       "   country_id  league_id     season                 date  match_api_id  \\\n",
       "0           1          1  2008/2009  2008-08-17 00:00:00        492473   \n",
       "1           1          1  2008/2009  2008-08-16 00:00:00        492474   \n",
       "2           1          1  2008/2009  2008-08-16 00:00:00        492475   \n",
       "3           1          1  2008/2009  2008-08-17 00:00:00        492476   \n",
       "4           1          1  2008/2009  2008-08-16 00:00:00        492477   \n",
       "\n",
       "   home_team_api_id  away_team_api_id  home_team_goal  away_team_goal  B365H  \\\n",
       "0              9987              9993               1               1   1.73   \n",
       "1             10000              9994               0               0   1.95   \n",
       "2              9984              8635               0               3   2.38   \n",
       "3              9991              9998               5               0   1.44   \n",
       "4              7947              9985               1               3   5.00   \n",
       "\n",
       "   ...    SJA   VCH   VCD   VCA   GBH   GBD   GBA   BSH   BSD   BSA  \n",
       "0  ...   4.00  1.65  3.40  4.50  1.78  3.25  4.00  1.73  3.40  4.20  \n",
       "1  ...   3.80  2.00  3.25  3.25  1.85  3.25  3.75  1.91  3.25  3.60  \n",
       "2  ...   2.50  2.35  3.25  2.65  2.50  3.20  2.50  2.30  3.20  2.75  \n",
       "3  ...   7.50  1.45  3.75  6.50  1.50  3.75  5.50  1.44  3.75  6.50  \n",
       "4  ...   1.73  4.50  3.40  1.65  4.50  3.50  1.65  4.75  3.30  1.67  \n",
       "\n",
       "[5 rows x 39 columns]"
      ]
     },
     "execution_count": 19,
     "metadata": {},
     "output_type": "execute_result"
    }
   ],
   "source": [
    "data_cotes.head()"
   ]
  },
  {
   "cell_type": "code",
   "execution_count": 20,
   "metadata": {},
   "outputs": [
    {
     "name": "stdout",
     "output_type": "stream",
     "text": [
      "On récupère le nom de chaque site de paris sportifs\n"
     ]
    },
    {
     "data": {
      "text/plain": [
       "['B365', 'BW', 'IW', 'LB', 'PS', 'WH', 'SJ', 'VC', 'GB', 'BS']"
      ]
     },
     "execution_count": 20,
     "metadata": {},
     "output_type": "execute_result"
    }
   ],
   "source": [
    "print(\"On récupère le nom de chaque site de paris sportifs\")\n",
    "nom_sites = list()\n",
    "pas = 3\n",
    "ind = 0 \n",
    "while ind < len(columns_cote):\n",
    "    #print(data_cotes[columns_cote[ind:ind+pas]].count())\n",
    "    s = columns_cote[ind]\n",
    "    s = s[0:len(s)-1]\n",
    "    nom_sites.append(s)\n",
    "    ind += 3\n",
    "    \n",
    "data_cotes[columns_cote[9:12]].dropna().count()\n",
    "nom_sites"
   ]
  },
  {
   "cell_type": "code",
   "execution_count": 21,
   "metadata": {},
   "outputs": [
    {
     "name": "stdout",
     "output_type": "stream",
     "text": [
      "Taux d'erreur de  B365  sur tous les matchs :  0.46671388101983\n",
      "Taux d'erreur de  BW  sur tous les matchs :  0.4684828349944629\n",
      "Taux d'erreur de  IW  sur tous les matchs :  0.4683392539964476\n",
      "Taux d'erreur de  LB  sur tous les matchs :  0.46856712183011173\n",
      "Taux d'erreur de  PS  sur tous les matchs :  0.4728689111747851\n",
      "Taux d'erreur de  WH  sur tous les matchs :  0.4685215542067254\n",
      "Taux d'erreur de  SJ  sur tous les matchs :  0.466573082997017\n",
      "Taux d'erreur de  VC  sur tous les matchs :  0.46712158808933\n",
      "Taux d'erreur de  GB  sur tous les matchs :  0.4672362660641152\n",
      "Taux d'erreur de  BS  sur tous les matchs :  0.46776357601864277\n"
     ]
    }
   ],
   "source": [
    "liste_stat_site = list()\n",
    "for i in range(len(nom_sites)):\n",
    "    res = get_stat_site(nom_sites[i], data_cotes)\n",
    "    res = res.count(-1)*1.0/len(res)\n",
    "    liste_stat_site.append(res)\n",
    "    print(\"Taux d'erreur de \",nom_sites[i],\" sur tous les matchs : \", res)"
   ]
  },
  {
   "cell_type": "code",
   "execution_count": 22,
   "metadata": {},
   "outputs": [
    {
     "name": "stdout",
     "output_type": "stream",
     "text": [
      "[    1  1729  4769  7809 10257 13274 15722 17642 19694 21518 24558]\n",
      "[    1  1729  4769  7809 10257 13274 15722 17642 19694 21518 24558]\n"
     ]
    }
   ],
   "source": [
    "countries = data_match[\"country_id\"].unique()\n",
    "leagues = data_match[\"league_id\"].unique()\n",
    "print(countries)\n",
    "print(leagues)\n",
    "liste_championnats = list()\n",
    "for i in range(len(countries)):\n",
    "    liste_championnats.append( data_cotes.groupby(\"league_id\").get_group(countries[i]) )"
   ]
  },
  {
   "cell_type": "code",
   "execution_count": 23,
   "metadata": {
    "collapsed": true
   },
   "outputs": [],
   "source": [
    "data_country = pd.read_csv(\"soccer_csv/country.csv\")"
   ]
  },
  {
   "cell_type": "code",
   "execution_count": 24,
   "metadata": {
    "collapsed": true
   },
   "outputs": [],
   "source": [
    "\n",
    "liste_site_par_championnat = list()\n",
    "for site in range(len(nom_sites)):\n",
    "    liste_stat_site_par_championnat = list()\n",
    "    liste_site_championnat = list()\n",
    "    for i in range(len(countries)):\n",
    "        res = get_stat_site(nom_sites[site], liste_championnats[i])\n",
    "        #print(res)\n",
    "        if len(res)==0 or res==None:\n",
    "            continue\n",
    "        res = res.count(-1)*1.0/len(res)\n",
    "        liste_stat_site_par_championnat.append(res)\n",
    "        liste_site_championnat.append(data_country.loc[ data_country[\"id\"] == countries[i] ][\"name\"].iloc[0])\n",
    "    liste_site_par_championnat.append((liste_site_championnat, liste_stat_site_par_championnat))\n"
   ]
  },
  {
   "cell_type": "code",
   "execution_count": 25,
   "metadata": {},
   "outputs": [
    {
     "name": "stdout",
     "output_type": "stream",
     "text": [
      "stats de  Belgium  ->  B365  :  0.4712778429073857\n",
      "stats de  Belgium  ->  BW  :  0.47096774193548385\n",
      "stats de  Belgium  ->  IW  :  0.47290930506478207\n",
      "stats de  Belgium  ->  LB  :  0.4769775678866588\n",
      "stats de  Belgium  ->  PS  :  0.4943661971830986\n",
      "stats de  Belgium  ->  WH  :  0.47300469483568075\n",
      "stats de  Belgium  ->  SJ  :  0.46957878315132606\n",
      "stats de  Belgium  ->  VC  :  0.4730363423212192\n",
      "stats de  Belgium  ->  GB  :  0.46890343698854337\n",
      "stats de  Belgium  ->  BS  :  0.46551724137931033\n",
      "stats de  England  ->  B365  :  0.4667763157894737\n",
      "stats de  England  ->  BW  :  0.46692991115498517\n",
      "stats de  England  ->  IW  :  0.46675444371296904\n",
      "stats de  England  ->  LB  :  0.46725896676538337\n",
      "stats de  England  ->  PS  :  0.46543778801843316\n",
      "stats de  England  ->  WH  :  0.4680921052631579\n",
      "stats de  England  ->  SJ  :  0.4625\n",
      "stats de  England  ->  VC  :  0.4674342105263158\n",
      "stats de  England  ->  GB  :  0.4697209057398631\n",
      "stats de  England  ->  BS  :  0.4705263157894737\n"
     ]
    }
   ],
   "source": [
    "for i in range(len(liste_site_par_championnat)):\n",
    "    pays = liste_site_par_championnat[i][0][0]\n",
    "    stat = liste_site_par_championnat[i][1][0]\n",
    "    print(\"stats de \",pays, \" -> \", nom_sites[i], \" : \", stat)\n",
    "\n",
    "for i in range(len(liste_site_par_championnat)):\n",
    "    pays = liste_site_par_championnat[i][0][1]\n",
    "    stat = liste_site_par_championnat[i][1][1]\n",
    "    print(\"stats de \",pays, \" -> \", nom_sites[i], \" : \", stat)"
   ]
  },
  {
   "cell_type": "code",
   "execution_count": 26,
   "metadata": {},
   "outputs": [
    {
     "name": "stdout",
     "output_type": "stream",
     "text": [
      "Taux d'erreurs pour tous les championnats (arbitraire) :  0.47280092592592593\n"
     ]
    }
   ],
   "source": [
    "res = get_stat_site_global(nom_sites, liste_championnats[0])\n",
    "print(\"Taux d'erreurs pour tous les championnats (arbitraire) : \", res.count(-1)/len(res))"
   ]
  },
  {
   "cell_type": "code",
   "execution_count": 27,
   "metadata": {},
   "outputs": [
    {
     "name": "stdout",
     "output_type": "stream",
     "text": [
      "Taux d'erreur de tous les sites sur les matchs du pays Belgium  :  0.47280092592592593\n",
      "Taux d'erreur de tous les sites sur les matchs du pays England  :  0.46875\n",
      "Taux d'erreur de tous les sites sur les matchs du pays France  :  0.4921052631578947\n",
      "Taux d'erreur de tous les sites sur les matchs du pays Germany  :  0.4861111111111111\n",
      "Taux d'erreur de tous les sites sur les matchs du pays Italy  :  0.4666887636725224\n",
      "Taux d'erreur de tous les sites sur les matchs du pays Netherlands  :  0.44607843137254904\n",
      "Taux d'erreur de tous les sites sur les matchs du pays Poland  :  0.546875\n",
      "Taux d'erreur de tous les sites sur les matchs du pays Portugal  :  0.452729044834308\n",
      "Taux d'erreur de tous les sites sur les matchs du pays Scotland  :  0.49780701754385964\n",
      "Taux d'erreur de tous les sites sur les matchs du pays Spain  :  0.4394736842105263\n",
      "Taux d'erreur de tous les sites sur les matchs du pays Switzerland  :  0.5428973277074542\n"
     ]
    }
   ],
   "source": [
    "liste_tous_site_par_championnat = list()\n",
    "liste_stat_tous_site_par_championnat = list()\n",
    "liste_site_championnat = list()\n",
    "for i in range(len(liste_championnats)):\n",
    "    res = get_stat_site_global(nom_sites, liste_championnats[i])\n",
    "    #print(res)\n",
    "    if len(res)==0 or res==None:\n",
    "        print(\"erreur: res==0 or res==null\")\n",
    "        continue\n",
    "    res = res.count(-1)*1.0/len(res)\n",
    "    liste_stat_tous_site_par_championnat.append(res)\n",
    "    pays = data_country.loc[ data_country[\"id\"] == countries[i] ][\"name\"].iloc[0]\n",
    "    print(\"Taux d'erreur de tous les sites sur les matchs du pays\", pays,\" : \", res)\n",
    "    liste_site_championnat.append(pays)\n",
    "liste_tous_site_par_championnat.append((liste_site_championnat, liste_stat_tous_site_par_championnat))\n"
   ]
  },
  {
   "cell_type": "code",
   "execution_count": 28,
   "metadata": {},
   "outputs": [
    {
     "data": {
      "text/plain": [
       "['Belgium',\n",
       " 'England',\n",
       " 'France',\n",
       " 'Germany',\n",
       " 'Italy',\n",
       " 'Netherlands',\n",
       " 'Poland',\n",
       " 'Portugal',\n",
       " 'Scotland',\n",
       " 'Spain',\n",
       " 'Switzerland']"
      ]
     },
     "execution_count": 28,
     "metadata": {},
     "output_type": "execute_result"
    }
   ],
   "source": [
    "liste_site_championnat"
   ]
  },
  {
   "cell_type": "code",
   "execution_count": 29,
   "metadata": {},
   "outputs": [
    {
     "data": {
      "image/png": "[encoded data removed]",
      "text/plain": [
       "<matplotlib.figure.Figure at 0x7f6c1eef4358>"
      ]
     },
     "metadata": {},
     "output_type": "display_data"
    },
    {
     "data": {
      "text/plain": [
       "<matplotlib.figure.Figure at 0x7f6c1e9ebcc0>"
      ]
     },
     "metadata": {},
     "output_type": "display_data"
    }
   ],
   "source": [
    "pays = liste_tous_site_par_championnat[0][0]\n",
    "stat = liste_tous_site_par_championnat[0][1]\n",
    "y_pos = list(range(len(pays)))\n",
    "plt.barh(y_pos, stat, align='center', color=\"red\", alpha=0.9)\n",
    "plt.yticks(y_pos, pays)\n",
    "plt.xlabel(\"taux d'erreur\")\n",
    "plt.title(\"taux d'erreur des sites par pays\")\n",
    "plt.figure()\n",
    "plt.show()"
   ]
  },
  {
   "cell_type": "markdown",
   "metadata": {},
   "source": [
    "## Partie 5 - Résultats"
   ]
  },
  {
   "cell_type": "markdown",
   "metadata": {},
   "source": [
    "### Taux d'erreurs par site sur tous les matchs"
   ]
  },
  {
   "cell_type": "code",
   "execution_count": 30,
   "metadata": {},
   "outputs": [
    {
     "data": {
      "image/png": "[encoded data removed]",
      "text/plain": [
       "<matplotlib.figure.Figure at 0x7f6c1eef4c18>"
      ]
     },
     "metadata": {},
     "output_type": "display_data"
    },
    {
     "name": "stdout",
     "output_type": "stream",
     "text": [
      "taux d'erreurs moyen :  0.46821880703914687\n"
     ]
    }
   ],
   "source": [
    "y_pos = list(range(len(nom_sites)))\n",
    "plt.bar(y_pos, liste_stat_site, align='center', color=\"red\", alpha=0.9)\n",
    "plt.xticks(y_pos, nom_sites)\n",
    "plt.ylabel(\"les taux d'erreur\")\n",
    "plt.title(\"taux d'erreur par site sur tous les matchs\")\n",
    "plt.show()\n",
    "print(\"taux d'erreurs moyen : \", moyenne(liste_stat_site))"
   ]
  },
  {
   "cell_type": "markdown",
   "metadata": {},
   "source": [
    "### Taux d'erreur de chaque site pour chaque pays"
   ]
  },
  {
   "cell_type": "code",
   "execution_count": 31,
   "metadata": {},
   "outputs": [
    {
     "data": {
      "image/png": "[encoded data removed]",
      "text/plain": [
       "<matplotlib.figure.Figure at 0x7f6c1e9b5da0>"
      ]
     },
     "metadata": {},
     "output_type": "display_data"
    },
    {
     "data": {
      "text/plain": [
       "<matplotlib.figure.Figure at 0x7f6c1e2382e8>"
      ]
     },
     "metadata": {},
     "output_type": "display_data"
    },
    {
     "data": {
      "image/png": "[encoded data removed]",
      "text/plain": [
       "<matplotlib.figure.Figure at 0x7f6c1e9f1908>"
      ]
     },
     "metadata": {},
     "output_type": "display_data"
    },
    {
     "data": {
      "text/plain": [
       "<matplotlib.figure.Figure at 0x7f6c1e2b4b00>"
      ]
     },
     "metadata": {},
     "output_type": "display_data"
    },
    {
     "data": {
      "image/png": "[encoded data removed]",
      "text/plain": [
       "<matplotlib.figure.Figure at 0x7f6c1ea22400>"
      ]
     },
     "metadata": {},
     "output_type": "display_data"
    },
    {
     "data": {
      "text/plain": [
       "<matplotlib.figure.Figure at 0x7f6c1e9b5470>"
      ]
     },
     "metadata": {},
     "output_type": "display_data"
    },
    {
     "data": {
      "image/png": "[encoded data removed]",
      "text/plain": [
       "<matplotlib.figure.Figure at 0x7f6c1ea33208>"
      ]
     },
     "metadata": {},
     "output_type": "display_data"
    },
    {
     "data": {
      "text/plain": [
       "<matplotlib.figure.Figure at 0x7f6c1e2389b0>"
      ]
     },
     "metadata": {},
     "output_type": "display_data"
    },
    {
     "data": {
      "image/png": "[encoded data removed]",
      "text/plain": [
       "<matplotlib.figure.Figure at 0x7f6c1ea33208>"
      ]
     },
     "metadata": {},
     "output_type": "display_data"
    },
    {
     "data": {
      "text/plain": [
       "<matplotlib.figure.Figure at 0x7f6c1e266cc0>"
      ]
     },
     "metadata": {},
     "output_type": "display_data"
    },
    {
     "data": {
      "image/png": "[encoded data removed]",
      "text/plain": [
       "<matplotlib.figure.Figure at 0x7f6c1e2c75c0>"
      ]
     },
     "metadata": {},
     "output_type": "display_data"
    },
    {
     "data": {
      "text/plain": [
       "<matplotlib.figure.Figure at 0x7f6c1e2666d8>"
      ]
     },
     "metadata": {},
     "output_type": "display_data"
    },
    {
     "data": {
      "image/png": "[encoded data removed]",
      "text/plain": [
       "<matplotlib.figure.Figure at 0x7f6c1eed6f60>"
      ]
     },
     "metadata": {},
     "output_type": "display_data"
    },
    {
     "data": {
      "text/plain": [
       "<matplotlib.figure.Figure at 0x7f6c1e238cf8>"
      ]
     },
     "metadata": {},
     "output_type": "display_data"
    },
    {
     "data": {
      "image/png": "[encoded data removed]",
      "text/plain": [
       "<matplotlib.figure.Figure at 0x7f6c1e9dd588>"
      ]
     },
     "metadata": {},
     "output_type": "display_data"
    },
    {
     "data": {
      "text/plain": [
       "<matplotlib.figure.Figure at 0x7f6c1e266908>"
      ]
     },
     "metadata": {},
     "output_type": "display_data"
    },
    {
     "data": {
      "image/png": "[encoded data removed]",
      "text/plain": [
       "<matplotlib.figure.Figure at 0x7f6c1e9ebb00>"
      ]
     },
     "metadata": {},
     "output_type": "display_data"
    },
    {
     "data": {
      "text/plain": [
       "<matplotlib.figure.Figure at 0x7f6c1e251710>"
      ]
     },
     "metadata": {},
     "output_type": "display_data"
    },
    {
     "data": {
      "image/png": "[encoded data removed]",
      "text/plain": [
       "<matplotlib.figure.Figure at 0x7f6c1ea33208>"
      ]
     },
     "metadata": {},
     "output_type": "display_data"
    },
    {
     "data": {
      "text/plain": [
       "<matplotlib.figure.Figure at 0x7f6c1e273860>"
      ]
     },
     "metadata": {},
     "output_type": "display_data"
    }
   ],
   "source": [
    "for i in range(len(liste_site_par_championnat)):\n",
    "    pays = liste_site_par_championnat[i][0]\n",
    "    stat = liste_site_par_championnat[i][1]\n",
    "    y_pos = list(range(len(pays)))\n",
    "    plt.barh(y_pos, stat, align='center', color=\"red\", alpha=0.9)\n",
    "    plt.yticks(y_pos, pays)\n",
    "    plt.xlabel(\"taux d'erreur\")\n",
    "    plt.title(\"taux d'erreur du site \"+nom_sites[i]+\" par championnat\")\n",
    "    plt.figure()\n",
    "    plt.show()\n"
   ]
  },
  {
   "cell_type": "markdown",
   "metadata": {},
   "source": [
    "### Taux d'erreurs de tous les sites pour chaque pays"
   ]
  },
  {
   "cell_type": "code",
   "execution_count": 32,
   "metadata": {},
   "outputs": [
    {
     "data": {
      "image/png": "[encoded data removed]",
      "text/plain": [
       "<matplotlib.figure.Figure at 0x7f6c1eed6240>"
      ]
     },
     "metadata": {},
     "output_type": "display_data"
    },
    {
     "data": {
      "text/plain": [
       "<matplotlib.figure.Figure at 0x7f6c1e229518>"
      ]
     },
     "metadata": {},
     "output_type": "display_data"
    },
    {
     "name": "stdout",
     "output_type": "stream",
     "text": [
      "taux d'erreurs moyen :  0.48293786995783194\n"
     ]
    }
   ],
   "source": [
    "pays = liste_tous_site_par_championnat[0][0]\n",
    "stat = liste_tous_site_par_championnat[0][1]\n",
    "y_pos = list(range(len(pays)))\n",
    "plt.barh(y_pos, stat, align='center', color=\"red\", alpha=0.9)\n",
    "plt.yticks(y_pos, pays)\n",
    "plt.xlabel(\"taux d'erreur\")\n",
    "plt.title(\"taux d'erreur des sites par pays\")\n",
    "plt.figure()\n",
    "plt.show()\n",
    "print(\"taux d'erreurs moyen : \", moyenne(liste_tous_site_par_championnat[0][1]))"
   ]
  },
  {
   "cell_type": "markdown",
   "metadata": {},
   "source": [
    "## Partie 6 - Analyse"
   ]
  },
  {
   "cell_type": "markdown",
   "metadata": {},
   "source": [
    "On a eu comme résultats:\n",
    "* Taux d'erreurs moyen par site sur tous les match : 46.8%\n",
    "* Taux d'erreurs de tous les sites pour chaque pays : 48.29%\n",
    "* La variance du taux d'erreurs de chaque site par pays est faible, la moyenne est toujours proche de 48.29% (taux d'erreurs de tous les sites pour chaque pays)"
   ]
  },
  {
   "cell_type": "markdown",
   "metadata": {},
   "source": [
    "A partir de ces résultats, on coclut que les côtes d'avant match des sites de paris sportifs <b>ne sont pas fiables</b> pour essayer de prédir le résultat d'un match (match nul, victoire home, victoire away) et ça explique pourquoi ce genre de sites sont toujours gagnants.<br>\n",
    "Sinon, si les côtes étaient fiables (<b>un taux d'erreurs ~ faible</b>) on aurait pu construire un modèle prédictif qui se base dessus."
   ]
  }
 ],
 "metadata": {
  "kernelspec": {
   "display_name": "Python 3",
   "language": "python",
   "name": "python3"
  },
  "language_info": {
   "codemirror_mode": {
    "name": "ipython",
    "version": 3
   },
   "file_extension": ".py",
   "mimetype": "text/x-python",
   "name": "python",
   "nbconvert_exporter": "python",
   "pygments_lexer": "ipython3",
   "version": "3.6.3"
  }
 },
 "nbformat": 4,
 "nbformat_minor": 1
}
